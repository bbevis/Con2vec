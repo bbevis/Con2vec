{
 "cells": [
  {
   "cell_type": "code",
   "execution_count": 2,
   "metadata": {},
   "outputs": [
    {
     "name": "stdout",
     "output_type": "stream",
     "text": [
      "/Users/bb320/Library/CloudStorage/GoogleDrive-burint@bnmanalytics.com/My Drive/Imperial/01_Projects/TeamofRivals/Analysis/Con2vec-1\n"
     ]
    }
   ],
   "source": [
    "import os\n",
    "import pandas as pd\n",
    "\n",
    "print(os.getcwd())\n",
    "# os.chdir('../')\n",
    "# print(os.getcwd())"
   ]
  },
  {
   "cell_type": "code",
   "execution_count": 9,
   "metadata": {},
   "outputs": [],
   "source": [
    "def find_duplicate_rows(folder_path, output_file):\n",
    "    result = []\n",
    "    \n",
    "    # List all CSV files in the directory\n",
    "    for file_name in os.listdir(folder_path):\n",
    "        if file_name.endswith('.csv'):\n",
    "            file_path = os.path.join(folder_path, file_name)\n",
    "            \n",
    "            try:\n",
    "                # Read the CSV file\n",
    "                df = pd.read_csv(file_path)\n",
    "                \n",
    "                # Exclude the first column called 'timestamp_ms'\n",
    "                if 'timestamp_ms' in df.columns:\n",
    "                    df = df.drop(columns=['timestamp_ms'])\n",
    "                \n",
    "                # Count duplicate rows\n",
    "                duplicate_count = df.duplicated().sum()\n",
    "                \n",
    "                result.append((file_name, duplicate_count))\n",
    "            \n",
    "            except Exception as e:\n",
    "                print(f\"Error reading {file_name}: {e}\")\n",
    "    \n",
    "    # Save results to CSV\n",
    "    result_df = pd.DataFrame(result, columns=[\"File Name\", \"Duplicate Count\"])\n",
    "    result_df.to_csv(output_file, index=False)\n",
    "    \n",
    "    return result\n"
   ]
  },
  {
   "cell_type": "code",
   "execution_count": 10,
   "metadata": {},
   "outputs": [
    {
     "name": "stdout",
     "output_type": "stream",
     "text": [
      "Duplicate report saved to ./Output/super_May22/videos_issues_list.csv\n"
     ]
    }
   ],
   "source": [
    "# Example usage\n",
    "folder_path = \"./Output/super_May22/Video\"  # Change this to your actual folder path\n",
    "output_file = \"./Output/super_May22/videos_issues_list.csv\"  # Output file name\n",
    "duplicates = find_duplicate_rows(folder_path, output_file)\n",
    "\n",
    "# Output results\n",
    "if duplicates:\n",
    "    print(f\"Duplicate report saved to {output_file}\")\n",
    "else:\n",
    "    print(\"No duplicate rows found in any file.\")"
   ]
  }
 ],
 "metadata": {
  "kernelspec": {
   "display_name": ".venv",
   "language": "python",
   "name": "python3"
  },
  "language_info": {
   "codemirror_mode": {
    "name": "ipython",
    "version": 3
   },
   "file_extension": ".py",
   "mimetype": "text/x-python",
   "name": "python",
   "nbconvert_exporter": "python",
   "pygments_lexer": "ipython3",
   "version": "3.10.1"
  }
 },
 "nbformat": 4,
 "nbformat_minor": 2
}
