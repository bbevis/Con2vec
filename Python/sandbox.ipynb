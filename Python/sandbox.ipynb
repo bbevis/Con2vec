{
 "cells": [
  {
   "cell_type": "markdown",
   "metadata": {},
   "source": [
    "Removing video files from folder that were 'demos' "
   ]
  },
  {
   "cell_type": "code",
   "execution_count": 2,
   "metadata": {},
   "outputs": [
    {
     "name": "stdout",
     "output_type": "stream",
     "text": [
      "/Users/bb320/Library/CloudStorage/GoogleDrive-burint@bnmanalytics.com/My Drive/Imperial/01_Projects/TeamofRivals/Analysis/Con2vec-1\n",
      "/Users/bb320/Library/CloudStorage/GoogleDrive-burint@bnmanalytics.com/My Drive/Imperial/01_Projects/TeamofRivals/Analysis\n",
      "File not found: ./Output/super_May22/Video/1716313550906-6b7e8c6f-098b-4764-9117-275a8fecf69d-cam-video-1716313551858.csv\n",
      "File not found: ./Output/super_May22/Video/1716313550906-d8b70d15-ee7e-4b1e-9829-1f8b81b663a1-cam-video-1716313551853.csv\n",
      "File not found: ./Output/super_May22/Video/1716228550275-d3dbb64d-f35b-4c39-be9b-a732b3b47f29-cam-video-1716228551234.csv\n",
      "File not found: ./Output/super_May22/Video/1716219691394-88de0d3c-9253-48ff-a6db-82d42846ab3c-cam-video-1716219692358.csv\n",
      "File not found: ./Output/super_May22/Video/1716219691394-b7a47217-c676-43a4-a0f7-4715f2d52dbc-cam-video-1716219692352.csv\n",
      "File not found: ./Output/super_May22/Video/1715881297186-f02d6150-1c80-4032-99f4-a7c97c857294-cam-video-1715881298141.csv\n",
      "File not found: ./Output/super_May22/Video/1715877775490-9d7fa1a0-b164-4d37-b4c8-4e970503b18a-cam-video-1715877776469.csv\n",
      "File not found: ./Output/super_May22/Video/1715877775490-2371a63b-4246-4c16-bb69-ff52fd7bd13d-cam-video-1715877776821.csv\n",
      "File not found: ./Output/super_May22/Video/1715739232647-f580fc92-5f1d-4deb-b718-c3d595d4b483-cam-video-1715739233616.csv\n",
      "File not found: ./Output/super_May22/Video/1715739232647-f853c3b3-4301-4f9f-808b-3d0aee125677-cam-video-1715739233620.csv\n"
     ]
    }
   ],
   "source": [
    "import os\n",
    "print(os.getcwd())\n",
    "os.chdir('../')\n",
    "\n",
    "print(os.getcwd())\n",
    "\n",
    "import shutil\n",
    "\n",
    "def move_and_delete_files(source_directory, destination_directory, filenames, extensions=[\".csv\"]):\n",
    "    if not os.path.exists(destination_directory):\n",
    "        os.makedirs(destination_directory)\n",
    "    \n",
    "    for filename in filenames:\n",
    "        for ext in extensions:\n",
    "            file_path = os.path.join(source_directory, filename + ext)\n",
    "            dest_path = os.path.join(destination_directory, filename + ext)\n",
    "            \n",
    "            if os.path.exists(file_path):\n",
    "                try:\n",
    "                    shutil.move(file_path, dest_path)\n",
    "                    print(f\"Moved: {file_path} -> {dest_path}\")\n",
    "                except Exception as e:\n",
    "                    print(f\"Error moving {file_path}: {e}\")\n",
    "            else:\n",
    "                print(f\"File not found: {file_path}\")\n",
    "\n",
    "# Specify the directories\n",
    "source_directory = \"/path/to/your/source_directory\"  # Change this to your source directory\n",
    "destination_directory = \"/path/to/your/destination_directory\"  # Change this to your target directory\n",
    "\n",
    "# List of filenames to move and delete (without extensions)\n",
    "filenames = [\n",
    "    \"1716313550906-6b7e8c6f-098b-4764-9117-275a8fecf69d-cam-video-1716313551858\",\n",
    "    \"1716313550906-d8b70d15-ee7e-4b1e-9829-1f8b81b663a1-cam-video-1716313551853\",\n",
    "    \"1716228550275-d3dbb64d-f35b-4c39-be9b-a732b3b47f29-cam-video-1716228551234\",\n",
    "    \"1716219691394-88de0d3c-9253-48ff-a6db-82d42846ab3c-cam-video-1716219692358\",\n",
    "    \"1716219691394-b7a47217-c676-43a4-a0f7-4715f2d52dbc-cam-video-1716219692352\",\n",
    "    \"1715881297186-f02d6150-1c80-4032-99f4-a7c97c857294-cam-video-1715881298141\",\n",
    "    \"1715877775490-9d7fa1a0-b164-4d37-b4c8-4e970503b18a-cam-video-1715877776469\",\n",
    "    \"1715877775490-2371a63b-4246-4c16-bb69-ff52fd7bd13d-cam-video-1715877776821\",\n",
    "    \"1715739232647-f580fc92-5f1d-4deb-b718-c3d595d4b483-cam-video-1715739233616\",\n",
    "    \"1715739232647-f853c3b3-4301-4f9f-808b-3d0aee125677-cam-video-1715739233620\",\n",
    "]\n",
    "\n",
    "# Run the move and delete function\n",
    "move_and_delete_files('./Output/super_May22/Video', './Output/super_May22/DemoVideo', filenames)\n",
    "\n"
   ]
  },
  {
   "cell_type": "code",
   "execution_count": null,
   "metadata": {},
   "outputs": [],
   "source": []
  }
 ],
 "metadata": {
  "kernelspec": {
   "display_name": ".venv",
   "language": "python",
   "name": "python3"
  },
  "language_info": {
   "codemirror_mode": {
    "name": "ipython",
    "version": 3
   },
   "file_extension": ".py",
   "mimetype": "text/x-python",
   "name": "python",
   "nbconvert_exporter": "python",
   "pygments_lexer": "ipython3",
   "version": "3.10.1"
  }
 },
 "nbformat": 4,
 "nbformat_minor": 2
}
