{
 "cells": [
  {
   "cell_type": "markdown",
   "metadata": {},
   "source": [
    "Removing video files from folder that were 'demos' "
   ]
  },
  {
   "cell_type": "code",
   "execution_count": 6,
   "metadata": {},
   "outputs": [
    {
     "name": "stdout",
     "output_type": "stream",
     "text": [
      "politeness_markers\n",
      "politeness_strategies\n"
     ]
    }
   ],
   "source": [
    "from strategy_extractor import get_2024_politeness_strategy_features\n",
    "\n",
    "text = \"Can you hear me? I disagree with your point, but I appreciate your perspective. Let's find a solution together.\"\n",
    "prevalence, meta = get_2024_politeness_strategy_features(text)\n",
    "print(prevalence)\n",
    "print(meta)\n"
   ]
  },
  {
   "cell_type": "code",
   "execution_count": null,
   "metadata": {},
   "outputs": [],
   "source": []
  }
 ],
 "metadata": {
  "kernelspec": {
   "display_name": ".venv_imperial",
   "language": "python",
   "name": "python3"
  },
  "language_info": {
   "codemirror_mode": {
    "name": "ipython",
    "version": 3
   },
   "file_extension": ".py",
   "mimetype": "text/x-python",
   "name": "python",
   "nbconvert_exporter": "python",
   "pygments_lexer": "ipython3",
   "version": "3.10.13"
  }
 },
 "nbformat": 4,
 "nbformat_minor": 2
}
