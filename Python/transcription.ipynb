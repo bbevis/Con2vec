{
 "cells": [
  {
   "cell_type": "code",
   "execution_count": 1,
   "metadata": {},
   "outputs": [],
   "source": [
    "import json\n",
    "import numpy as np\n",
    "import pandas as pd\n",
    "import re\n",
    "import glob\n",
    "from dotenv import load_dotenv\n",
    "import boto3\n",
    "\n",
    "from deepgram import (\n",
    "    DeepgramClient,\n",
    "    PrerecordedOptions,\n",
    "    FileSource,\n",
    ")\n",
    "\n",
    "import os\n",
    "\n",
    "load_dotenv() # Load the environment variables\n",
    "\n",
    "API_KEY = os.getenv(\"DG_API_KEY\")\n",
    "\n",
    "\n",
    "cwd = os.getcwd() # Get the current working directory (cwd)\n",
    "s3 = boto3.client('s3') # Create an S3 client\n",
    "deepgram = DeepgramClient(API_KEY)"
   ]
  },
  {
   "cell_type": "code",
   "execution_count": 2,
   "metadata": {},
   "outputs": [
    {
     "data": {
      "text/plain": [
       "21"
      ]
     },
     "execution_count": 2,
     "metadata": {},
     "output_type": "execute_result"
    }
   ],
   "source": [
    "filenames = glob.glob('../pilot/*.scienceData.jsonl')\n",
    "data = []\n",
    "for filename in filenames:\n",
    "    with open(filename) as f:\n",
    "        for line in f:\n",
    "            parsed = json.loads(line)\n",
    "            if parsed['sampleId'] != 'missing':\n",
    "                data.append(parsed)\n",
    "\n",
    "sorted_data = sorted(data, key=lambda x: x['treatment']['name']+x['gameId'])\n",
    "\n",
    "new_data = []\n",
    "game_lookups = {}\n",
    "game_index = 0\n",
    "for i, row in enumerate(sorted_data):\n",
    "    row[\"player\"] = i\n",
    "    if row[\"gameId\"] not in game_lookups:\n",
    "        game_lookups[row[\"gameId\"]] = game_index\n",
    "        row[\"game\"] = game_index\n",
    "        game_index += 1\n",
    "    else:\n",
    "        row[\"game\"] = game_lookups[row[\"gameId\"]]\n",
    "\n",
    "    if len(row[\"speakerEvents\"]) > 0: # if they joined the discussion only\n",
    "        new_data.append(row)\n",
    "\n",
    "data = new_data\n",
    "index = pd.MultiIndex.from_tuples([(row['treatment'][\"name\"], row['game'], int(row['position'])) for row in data], names=['treatment', 'game', 'position'])\n",
    "len(data)"
   ]
  },
  {
   "cell_type": "code",
   "execution_count": 3,
   "metadata": {},
   "outputs": [
    {
     "name": "stderr",
     "output_type": "stream",
     "text": [
      "<>:16: SyntaxWarning: invalid escape sequence '\\d'\n",
      "<>:16: SyntaxWarning: invalid escape sequence '\\d'\n",
      "/var/folders/2l/3kmvzs0s1sggnw_9sl0ls8080000gn/T/ipykernel_18431/1703393873.py:16: SyntaxWarning: invalid escape sequence '\\d'\n",
      "  start_time = re.search(' start: (\\d+\\.\\d+)', '\\n'.join(output))\n"
     ]
    }
   ],
   "source": [
    "def getFileNames(participant, s3, s3_bucket, s3_region):\n",
    "    # get S3 filenames for all videos recorded for this participant's group\n",
    "    folder = f\"deliberation/{participant['recordingsFolder']}\"\n",
    "    remote_paths = s3.list_objects_v2(Bucket=s3_bucket, Prefix=folder)['Contents']\n",
    "    return remote_paths\n",
    "\n",
    "def getMetadata(local_files):\n",
    "    # get metadata for all files downloaded for this participant's group\n",
    "    collector = []\n",
    "    for filepath in local_files:\n",
    "        \n",
    "        basename = os.path.basename(filepath)\n",
    "\n",
    "        # get start time from metadata\n",
    "        output = ! ffprobe $filepath\n",
    "        start_time = re.search(' start: (\\d+\\.\\d+)', '\\n'.join(output))\n",
    "        start = start_time.group(1) if start_time else None\n",
    "\n",
    "        if (\"video\") in basename:\n",
    "            # get resolution for video\n",
    "            resolution_cmd = f'ffprobe -v error -select_streams v:0 -show_entries stream=width,height -of csv=s=x:p=0 {filepath}'\n",
    "            resolution_output = ! $resolution_cmd\n",
    "            resolution = resolution_output[0].strip()\n",
    "            resolution_x = int(resolution.split(\"x\")[0])\n",
    "            track_type = \"video\"\n",
    "            \n",
    "            # get start from first frame\n",
    "            cmd = f'ffprobe -v 0 -show_entries packet=pts -of compact=p=0:nk=1 -read_intervals 0 -select_streams v {filepath} | head -1'\n",
    "            output = ! $cmd\n",
    "            first_frame_time = float(output[0])/1000\n",
    "\n",
    "            # get time of last frame\n",
    "            cmd = f'ffprobe -v 0 -show_entries packet=pts -of compact=p=0:nk=1 -read_intervals 999999 -select_streams v {filepath}  | tail -1 '\n",
    "            output = ! $cmd\n",
    "            last_frame_time = float(output[0])/1000\n",
    "\n",
    "        else:\n",
    "            resolution = np.nan\n",
    "            resolution_x = np.nan\n",
    "            track_type = \"audio\"\n",
    "            first_frame_time = np.nan\n",
    "            last_frame_time = np.nan\n",
    "\n",
    "        collector.append({\n",
    "            \"file\": filepath,\n",
    "            \"basename\": basename,\n",
    "            \"track_type\": track_type,\n",
    "            \"internal_start\": float(start),\n",
    "            \"resolution\": resolution,\n",
    "            \"resolution_x\": resolution_x,\n",
    "        })\n",
    "\n",
    "    metadata = pd.DataFrame(collector)\n",
    "    metadata = metadata.sort_values(\"internal_start\").reset_index(drop=True)\n",
    "\n",
    "    # which tracks go together?\n",
    "    video_tracks = metadata[metadata['track_type']==\"video\"]\n",
    "    audio_tracks = metadata[metadata['track_type']==\"audio\"]\n",
    "    for group, (video_track_index, video_track) in enumerate(video_tracks.iterrows()):\n",
    "        audio_track_index = (audio_tracks['internal_start'] - video_track['internal_start']).abs().idxmin()\n",
    "        metadata.loc[video_track_index, 'track_group'] = str(int(group))\n",
    "        metadata.loc[audio_track_index, 'track_group'] = str(int(group))\n",
    "\n",
    "    internal_group_starts = metadata.groupby(\"track_group\")['internal_start'].min() # internal time that the first track in the group starts\n",
    "    metadata['group_internal_start'] = metadata['track_group'].map(internal_group_starts)\n",
    "    metadata['group_internal_offset'] = metadata['internal_start'] - metadata['group_internal_start']\n",
    "\n",
    "    return metadata"
   ]
  },
  {
   "cell_type": "code",
   "execution_count": 4,
   "metadata": {},
   "outputs": [],
   "source": [
    "def get_participant_recordings_data(participant):\n",
    "    if participant['recordingIds'] == \"missing\":\n",
    "        return None\n",
    "    \n",
    "    folder = participant['recordingsFolder']\n",
    "    s3_bucket = participant['config']['videoStorage']['bucket']\n",
    "    s3_region = participant['config']['videoStorage']['region']\n",
    "    \n",
    "    remote_paths = getFileNames(participant, s3, s3_bucket, s3_region)\n",
    "    print(\"remote_paths\", remote_paths)\n",
    "\n",
    "    files = []\n",
    "    for recordingId in participant['recordingIds']:\n",
    "        files += [remote_path['Key'] for remote_path in remote_paths if recordingId in remote_path['Key']]\n",
    "\n",
    "    print(\"files\", files)\n",
    "\n",
    "    os.makedirs(cwd + \"/recordings/\" + folder, exist_ok=True)\n",
    "    local_files = []\n",
    "    for file in files:\n",
    "        path = \"recordings/\" + \"/\".join(file.split(\"/\")[1:])\n",
    "        if not path.endswith(\".webm\"): \n",
    "            path += \".webm\"\n",
    "        local_files.append(path)\n",
    "        if not os.path.exists(path):\n",
    "            print(\"downloading to path\", path)\n",
    "            s3.download_file(s3_bucket, file, path)\n",
    "\n",
    "    metadata = getMetadata(local_files)\n",
    "    return metadata"
   ]
  },
  {
   "cell_type": "code",
   "execution_count": 5,
   "metadata": {},
   "outputs": [],
   "source": [
    "\n",
    "def transcribe(audio_file):\n",
    "    print(\"transcribing\", audio_file)\n",
    "    \n",
    "    with open(audio_file, \"rb\") as file:\n",
    "        buffer_data = file.read()\n",
    "\n",
    "    payload: FileSource = {\n",
    "        \"buffer\": buffer_data,\n",
    "    }\n",
    "\n",
    "    #STEP 2: Configure Deepgram options for audio analysis\n",
    "    options = PrerecordedOptions(\n",
    "        model=\"nova-2\",\n",
    "        utterances=True,\n",
    "    )\n",
    "\n",
    "    # STEP 3: Call the transcribe_file method with the text payload and options\n",
    "    response = deepgram.listen.prerecorded.v(\"1\").transcribe_file(payload, options)\n",
    "\n",
    "    return response\n",
    "\n",
    "    "
   ]
  },
  {
   "cell_type": "code",
   "execution_count": 10,
   "metadata": {},
   "outputs": [
    {
     "name": "stdout",
     "output_type": "stream",
     "text": [
      "remote_paths [{'Key': 'deliberation/20240829_1458_Pilot_KZMBPG/1724947347486-0d3257a4-4d34-4149-9a6b-5ed74d80f54c-cam-audio-1724947348970', 'LastModified': datetime.datetime(2024, 8, 29, 16, 2, 30, tzinfo=tzutc()), 'ETag': '\"abe70f6a60c2a471e96b112a5e9a70ba-1\"', 'Size': 2411356, 'StorageClass': 'STANDARD'}, {'Key': 'deliberation/20240829_1458_Pilot_KZMBPG/1724947347486-0d3257a4-4d34-4149-9a6b-5ed74d80f54c-cam-video-1724947348971', 'LastModified': datetime.datetime(2024, 8, 29, 16, 2, 30, tzinfo=tzutc()), 'ETag': '\"0cfc8fec3e8c4b7ba1cf21ed60906960-24\"', 'Size': 121098544, 'StorageClass': 'STANDARD'}, {'Key': 'deliberation/20240829_1458_Pilot_KZMBPG/1724947347486-99db951a-efbe-4935-abe1-ec4aa6cf3937-cam-audio-1724947348459', 'LastModified': datetime.datetime(2024, 8, 29, 16, 2, 29, tzinfo=tzutc()), 'ETag': '\"456f4e0ffefe84b651bdcb59e2055837-1\"', 'Size': 2525125, 'StorageClass': 'STANDARD'}, {'Key': 'deliberation/20240829_1458_Pilot_KZMBPG/1724947347486-99db951a-efbe-4935-abe1-ec4aa6cf3937-cam-video-1724947348461', 'LastModified': datetime.datetime(2024, 8, 29, 16, 2, 29, tzinfo=tzutc()), 'ETag': '\"9f3325d3e6b9e3165ff3d93f26f937e0-28\"', 'Size': 144354245, 'StorageClass': 'STANDARD'}]\n",
      "files ['deliberation/20240829_1458_Pilot_KZMBPG/1724947347486-99db951a-efbe-4935-abe1-ec4aa6cf3937-cam-audio-1724947348459', 'deliberation/20240829_1458_Pilot_KZMBPG/1724947347486-99db951a-efbe-4935-abe1-ec4aa6cf3937-cam-video-1724947348461']\n",
      "file                     recordings/20240829_1458_Pilot_KZMBPG/17249473...\n",
      "basename                 1724947347486-99db951a-efbe-4935-abe1-ec4aa6cf...\n",
      "track_type                                                           audio\n",
      "internal_start                                                       0.981\n",
      "resolution                                                             NaN\n",
      "resolution_x                                                           NaN\n",
      "track_group                                                              0\n",
      "group_internal_start                                                 0.981\n",
      "group_internal_offset                                                  0.0\n",
      "Name: 0, dtype: object\n",
      "file                     recordings/20240829_1458_Pilot_KZMBPG/17249473...\n",
      "basename                 1724947347486-99db951a-efbe-4935-abe1-ec4aa6cf...\n",
      "track_type                                                           video\n",
      "internal_start                                                       2.397\n",
      "resolution                                                         640x360\n",
      "resolution_x                                                         640.0\n",
      "track_group                                                              0\n",
      "group_internal_start                                                 0.981\n",
      "group_internal_offset                                                1.416\n",
      "Name: 1, dtype: object\n"
     ]
    }
   ],
   "source": [
    "for i, row in get_participant_recordings_data(data[8]).iterrows():\n",
    "    \n",
    "    print(row)\n",
    "    "
   ]
  },
  {
   "cell_type": "code",
   "execution_count": 13,
   "metadata": {},
   "outputs": [],
   "source": [
    "def make_transcription_files(participant):\n",
    "    recordings = get_participant_recordings_data(participant)\n",
    "    position = participant['position']\n",
    "    if recordings is None:\n",
    "        return\n",
    "    # print(recordings[recordings['track_type']==\"audio\"])\n",
    "\n",
    "    if(len(recordings[recordings['track_type']==\"audio\"]['file']) > 0):\n",
    "        for i, row in recordings[recordings['track_type']==\"audio\"].iterrows():\n",
    "            print(row)\n",
    "            audio_file = row['file']\n",
    "            internal_start = row['internal_start']\n",
    "            \n",
    "            utterances_filepath = audio_file.replace(\".webm\", \"-utterances.csv\")\n",
    "            if os.path.exists(utterances_filepath):\n",
    "                print(\"skipping transcription of\", audio_file)\n",
    "                continue\n",
    "\n",
    "            response = transcribe(audio_file)\n",
    "            transcription_df = pd.DataFrame(response.to_dict()['results']['utterances'])\n",
    "\n",
    "            # export utterances csv\n",
    "            utterances = transcription_df[[\"start\", \"end\", \"confidence\", \"transcript\"]]\n",
    "            utterances['position'] = position\n",
    "            utterances['start'] += internal_start # add the start time of the recording\n",
    "            utterances['end'] += internal_start\n",
    "            utterances.to_csv(utterances_filepath, index=False)\n",
    "\n",
    "            # export words csv\n",
    "            words_list = []\n",
    "            for j, word_row in transcription_df.iterrows():\n",
    "                words_list += word_row['words']\n",
    "\n",
    "            words = pd.DataFrame(words_list)\n",
    "            words['position'] = position\n",
    "            words['start'] += internal_start\n",
    "            words['end'] += internal_start\n",
    "            words_filepath = audio_file.replace(\".webm\", \"-words.csv\")\n",
    "            words.to_csv(words_filepath, index=False)\n"
   ]
  },
  {
   "cell_type": "code",
   "execution_count": 14,
   "metadata": {},
   "outputs": [
    {
     "name": "stdout",
     "output_type": "stream",
     "text": [
      "0 0\n",
      "remote_paths [{'Key': 'deliberation/20240829_1458_Pilot_BGAB07/1724947313451-210e4d0e-38e7-4348-9f70-68d8110a122c-cam-audio-1724947314491', 'LastModified': datetime.datetime(2024, 8, 29, 16, 1, 56, tzinfo=tzutc()), 'ETag': '\"89a063c93b25a8dd4e43c4b06d079eb9-1\"', 'Size': 1014316, 'StorageClass': 'STANDARD'}, {'Key': 'deliberation/20240829_1458_Pilot_BGAB07/1724947313451-210e4d0e-38e7-4348-9f70-68d8110a122c-cam-video-1724947314494', 'LastModified': datetime.datetime(2024, 8, 29, 16, 1, 56, tzinfo=tzutc()), 'ETag': '\"7e4803e7fe088380c8868c089bdcb938-12\"', 'Size': 61066427, 'StorageClass': 'STANDARD'}]\n",
      "files ['deliberation/20240829_1458_Pilot_BGAB07/1724947313451-210e4d0e-38e7-4348-9f70-68d8110a122c-cam-audio-1724947314491', 'deliberation/20240829_1458_Pilot_BGAB07/1724947313451-210e4d0e-38e7-4348-9f70-68d8110a122c-cam-video-1724947314494']\n",
      "file                     recordings/20240829_1458_Pilot_BGAB07/17249473...\n",
      "basename                 1724947313451-210e4d0e-38e7-4348-9f70-68d8110a...\n",
      "track_type                                                           audio\n",
      "internal_start                                                       0.969\n",
      "resolution                                                             NaN\n",
      "resolution_x                                                           NaN\n",
      "track_group                                                              0\n",
      "group_internal_start                                                 0.969\n",
      "group_internal_offset                                                  0.0\n",
      "Name: 0, dtype: object\n",
      "skipping transcription of recordings/20240829_1458_Pilot_BGAB07/1724947313451-210e4d0e-38e7-4348-9f70-68d8110a122c-cam-audio-1724947314491.webm\n",
      "1 1\n",
      "2 2\n",
      "remote_paths [{'Key': 'deliberation/20240904_1519_Pilot_2XKM1R/1725467493335-3b97b6ca-32c5-4238-8c1b-80a9de1fa70c-cam-audio-1725467494299', 'LastModified': datetime.datetime(2024, 9, 4, 16, 31, 35, tzinfo=tzutc()), 'ETag': '\"1b2850202e6d748181a48b60bf3518de-1\"', 'Size': 3030170, 'StorageClass': 'STANDARD'}, {'Key': 'deliberation/20240904_1519_Pilot_2XKM1R/1725467493335-3b97b6ca-32c5-4238-8c1b-80a9de1fa70c-cam-video-1725467494296', 'LastModified': datetime.datetime(2024, 9, 4, 16, 31, 35, tzinfo=tzutc()), 'ETag': '\"3baf13c8bc0649df6141a19158abdc94-37\"', 'Size': 189459987, 'StorageClass': 'STANDARD'}, {'Key': 'deliberation/20240904_1519_Pilot_2XKM1R/1725467493335-cb876ab2-b000-4fa9-b574-a45617eaf2f4-cam-audio-1725467494298', 'LastModified': datetime.datetime(2024, 9, 4, 16, 31, 35, tzinfo=tzutc()), 'ETag': '\"6c9d54465b7e92c2925cb330f770473e-1\"', 'Size': 2496310, 'StorageClass': 'STANDARD'}, {'Key': 'deliberation/20240904_1519_Pilot_2XKM1R/1725467493335-cb876ab2-b000-4fa9-b574-a45617eaf2f4-cam-video-1725467494301', 'LastModified': datetime.datetime(2024, 9, 4, 16, 31, 35, tzinfo=tzutc()), 'ETag': '\"0be3ae0da80853710faeeb4f665433db-36\"', 'Size': 184110615, 'StorageClass': 'STANDARD'}]\n",
      "files ['deliberation/20240904_1519_Pilot_2XKM1R/1725467493335-cb876ab2-b000-4fa9-b574-a45617eaf2f4-cam-audio-1725467494298', 'deliberation/20240904_1519_Pilot_2XKM1R/1725467493335-cb876ab2-b000-4fa9-b574-a45617eaf2f4-cam-video-1725467494301']\n",
      "file                     recordings/20240904_1519_Pilot_2XKM1R/17254674...\n",
      "basename                 1725467493335-cb876ab2-b000-4fa9-b574-a45617ea...\n",
      "track_type                                                           audio\n",
      "internal_start                                                       0.926\n",
      "resolution                                                             NaN\n",
      "resolution_x                                                           NaN\n",
      "track_group                                                              0\n",
      "group_internal_start                                                 0.926\n",
      "group_internal_offset                                                  0.0\n",
      "Name: 0, dtype: object\n",
      "skipping transcription of recordings/20240904_1519_Pilot_2XKM1R/1725467493335-cb876ab2-b000-4fa9-b574-a45617eaf2f4-cam-audio-1725467494298.webm\n",
      "3 3\n",
      "remote_paths [{'Key': 'deliberation/20240904_1519_Pilot_2XKM1R/1725467493335-3b97b6ca-32c5-4238-8c1b-80a9de1fa70c-cam-audio-1725467494299', 'LastModified': datetime.datetime(2024, 9, 4, 16, 31, 35, tzinfo=tzutc()), 'ETag': '\"1b2850202e6d748181a48b60bf3518de-1\"', 'Size': 3030170, 'StorageClass': 'STANDARD'}, {'Key': 'deliberation/20240904_1519_Pilot_2XKM1R/1725467493335-3b97b6ca-32c5-4238-8c1b-80a9de1fa70c-cam-video-1725467494296', 'LastModified': datetime.datetime(2024, 9, 4, 16, 31, 35, tzinfo=tzutc()), 'ETag': '\"3baf13c8bc0649df6141a19158abdc94-37\"', 'Size': 189459987, 'StorageClass': 'STANDARD'}, {'Key': 'deliberation/20240904_1519_Pilot_2XKM1R/1725467493335-cb876ab2-b000-4fa9-b574-a45617eaf2f4-cam-audio-1725467494298', 'LastModified': datetime.datetime(2024, 9, 4, 16, 31, 35, tzinfo=tzutc()), 'ETag': '\"6c9d54465b7e92c2925cb330f770473e-1\"', 'Size': 2496310, 'StorageClass': 'STANDARD'}, {'Key': 'deliberation/20240904_1519_Pilot_2XKM1R/1725467493335-cb876ab2-b000-4fa9-b574-a45617eaf2f4-cam-video-1725467494301', 'LastModified': datetime.datetime(2024, 9, 4, 16, 31, 35, tzinfo=tzutc()), 'ETag': '\"0be3ae0da80853710faeeb4f665433db-36\"', 'Size': 184110615, 'StorageClass': 'STANDARD'}]\n",
      "files ['deliberation/20240904_1519_Pilot_2XKM1R/1725467493335-3b97b6ca-32c5-4238-8c1b-80a9de1fa70c-cam-audio-1725467494299', 'deliberation/20240904_1519_Pilot_2XKM1R/1725467493335-3b97b6ca-32c5-4238-8c1b-80a9de1fa70c-cam-video-1725467494296']\n",
      "file                     recordings/20240904_1519_Pilot_2XKM1R/17254674...\n",
      "basename                 1725467493335-3b97b6ca-32c5-4238-8c1b-80a9de1f...\n",
      "track_type                                                           audio\n",
      "internal_start                                                       0.927\n",
      "resolution                                                             NaN\n",
      "resolution_x                                                           NaN\n",
      "track_group                                                              0\n",
      "group_internal_start                                                 0.927\n",
      "group_internal_offset                                                  0.0\n",
      "Name: 0, dtype: object\n",
      "transcribing recordings/20240904_1519_Pilot_2XKM1R/1725467493335-3b97b6ca-32c5-4238-8c1b-80a9de1fa70c-cam-audio-1725467494299.webm\n"
     ]
    },
    {
     "name": "stderr",
     "output_type": "stream",
     "text": [
      "/var/folders/2l/3kmvzs0s1sggnw_9sl0ls8080000gn/T/ipykernel_18431/359421643.py:18: DeprecatedWarning: prerecorded is deprecated as of 3.4.0 and will be removed in 4.0.0. deepgram.listen.prerecorded is deprecated. Use deepgram.listen.rest instead.\n",
      "  response = deepgram.listen.prerecorded.v(\"1\").transcribe_file(payload, options)\n"
     ]
    },
    {
     "name": "stdout",
     "output_type": "stream",
     "text": [
      "4 4\n",
      "remote_paths [{'Key': 'deliberation/20240815_2018_miniPiAKNVYX/1723755710029-0591956c-a9d3-4480-82c4-ed298a17dec2-cam-audio-1723755710431', 'LastModified': datetime.datetime(2024, 8, 15, 21, 1, 51, tzinfo=tzutc()), 'ETag': '\"4982f1c28c7240c9e40482aa395c78e5-1\"', 'Size': 2189670, 'StorageClass': 'STANDARD'}, {'Key': 'deliberation/20240815_2018_miniPiAKNVYX/1723755710029-0591956c-a9d3-4480-82c4-ed298a17dec2-cam-video-1723755710433', 'LastModified': datetime.datetime(2024, 8, 15, 21, 1, 51, tzinfo=tzutc()), 'ETag': '\"0b28647d91f42c5bc46c0b6aa5cf853c-6\"', 'Size': 29061389, 'StorageClass': 'STANDARD'}, {'Key': 'deliberation/20240815_2018_miniPiAKNVYX/1723755710029-10933107-59d8-46eb-b78c-08f8f41bca7a-cam-audio-1723755716888', 'LastModified': datetime.datetime(2024, 8, 15, 21, 1, 58, tzinfo=tzutc()), 'ETag': '\"88b4499927024bdfeeacb7f3f5fcfe14-1\"', 'Size': 2484298, 'StorageClass': 'STANDARD'}, {'Key': 'deliberation/20240815_2018_miniPiAKNVYX/1723755710029-10933107-59d8-46eb-b78c-08f8f41bca7a-cam-video-1723755717122', 'LastModified': datetime.datetime(2024, 8, 15, 21, 1, 58, tzinfo=tzutc()), 'ETag': '\"56dc4b08ba7e1bbd4d1029d57aa006ec-22\"', 'Size': 111257572, 'StorageClass': 'STANDARD'}]\n",
      "files ['deliberation/20240815_2018_miniPiAKNVYX/1723755710029-0591956c-a9d3-4480-82c4-ed298a17dec2-cam-audio-1723755710431', 'deliberation/20240815_2018_miniPiAKNVYX/1723755710029-0591956c-a9d3-4480-82c4-ed298a17dec2-cam-video-1723755710433']\n"
     ]
    },
    {
     "name": "stderr",
     "output_type": "stream",
     "text": [
      "/var/folders/2l/3kmvzs0s1sggnw_9sl0ls8080000gn/T/ipykernel_18431/2514948886.py:24: SettingWithCopyWarning: \n",
      "A value is trying to be set on a copy of a slice from a DataFrame.\n",
      "Try using .loc[row_indexer,col_indexer] = value instead\n",
      "\n",
      "See the caveats in the documentation: https://pandas.pydata.org/pandas-docs/stable/user_guide/indexing.html#returning-a-view-versus-a-copy\n",
      "  utterances['position'] = position\n",
      "/var/folders/2l/3kmvzs0s1sggnw_9sl0ls8080000gn/T/ipykernel_18431/2514948886.py:25: SettingWithCopyWarning: \n",
      "A value is trying to be set on a copy of a slice from a DataFrame.\n",
      "Try using .loc[row_indexer,col_indexer] = value instead\n",
      "\n",
      "See the caveats in the documentation: https://pandas.pydata.org/pandas-docs/stable/user_guide/indexing.html#returning-a-view-versus-a-copy\n",
      "  utterances['start'] += internal_start # add the start time of the recording\n",
      "/var/folders/2l/3kmvzs0s1sggnw_9sl0ls8080000gn/T/ipykernel_18431/2514948886.py:26: SettingWithCopyWarning: \n",
      "A value is trying to be set on a copy of a slice from a DataFrame.\n",
      "Try using .loc[row_indexer,col_indexer] = value instead\n",
      "\n",
      "See the caveats in the documentation: https://pandas.pydata.org/pandas-docs/stable/user_guide/indexing.html#returning-a-view-versus-a-copy\n",
      "  utterances['end'] += internal_start\n"
     ]
    },
    {
     "name": "stdout",
     "output_type": "stream",
     "text": [
      "file                     recordings/20240815_2018_miniPiAKNVYX/17237557...\n",
      "basename                 1723755710029-0591956c-a9d3-4480-82c4-ed298a17...\n",
      "track_type                                                           audio\n",
      "internal_start                                                       0.385\n",
      "resolution                                                             NaN\n",
      "resolution_x                                                           NaN\n",
      "track_group                                                              0\n",
      "group_internal_start                                                 0.385\n",
      "group_internal_offset                                                  0.0\n",
      "Name: 0, dtype: object\n",
      "transcribing recordings/20240815_2018_miniPiAKNVYX/1723755710029-0591956c-a9d3-4480-82c4-ed298a17dec2-cam-audio-1723755710431.webm\n"
     ]
    },
    {
     "name": "stderr",
     "output_type": "stream",
     "text": [
      "/var/folders/2l/3kmvzs0s1sggnw_9sl0ls8080000gn/T/ipykernel_18431/359421643.py:18: DeprecatedWarning: prerecorded is deprecated as of 3.4.0 and will be removed in 4.0.0. deepgram.listen.prerecorded is deprecated. Use deepgram.listen.rest instead.\n",
      "  response = deepgram.listen.prerecorded.v(\"1\").transcribe_file(payload, options)\n"
     ]
    },
    {
     "name": "stdout",
     "output_type": "stream",
     "text": [
      "5 5\n",
      "remote_paths [{'Key': 'deliberation/20240815_2018_miniPiAKNVYX/1723755710029-0591956c-a9d3-4480-82c4-ed298a17dec2-cam-audio-1723755710431', 'LastModified': datetime.datetime(2024, 8, 15, 21, 1, 51, tzinfo=tzutc()), 'ETag': '\"4982f1c28c7240c9e40482aa395c78e5-1\"', 'Size': 2189670, 'StorageClass': 'STANDARD'}, {'Key': 'deliberation/20240815_2018_miniPiAKNVYX/1723755710029-0591956c-a9d3-4480-82c4-ed298a17dec2-cam-video-1723755710433', 'LastModified': datetime.datetime(2024, 8, 15, 21, 1, 51, tzinfo=tzutc()), 'ETag': '\"0b28647d91f42c5bc46c0b6aa5cf853c-6\"', 'Size': 29061389, 'StorageClass': 'STANDARD'}, {'Key': 'deliberation/20240815_2018_miniPiAKNVYX/1723755710029-10933107-59d8-46eb-b78c-08f8f41bca7a-cam-audio-1723755716888', 'LastModified': datetime.datetime(2024, 8, 15, 21, 1, 58, tzinfo=tzutc()), 'ETag': '\"88b4499927024bdfeeacb7f3f5fcfe14-1\"', 'Size': 2484298, 'StorageClass': 'STANDARD'}, {'Key': 'deliberation/20240815_2018_miniPiAKNVYX/1723755710029-10933107-59d8-46eb-b78c-08f8f41bca7a-cam-video-1723755717122', 'LastModified': datetime.datetime(2024, 8, 15, 21, 1, 58, tzinfo=tzutc()), 'ETag': '\"56dc4b08ba7e1bbd4d1029d57aa006ec-22\"', 'Size': 111257572, 'StorageClass': 'STANDARD'}]\n",
      "files ['deliberation/20240815_2018_miniPiAKNVYX/1723755710029-10933107-59d8-46eb-b78c-08f8f41bca7a-cam-audio-1723755716888', 'deliberation/20240815_2018_miniPiAKNVYX/1723755710029-10933107-59d8-46eb-b78c-08f8f41bca7a-cam-video-1723755717122']\n"
     ]
    },
    {
     "name": "stderr",
     "output_type": "stream",
     "text": [
      "/var/folders/2l/3kmvzs0s1sggnw_9sl0ls8080000gn/T/ipykernel_18431/2514948886.py:24: SettingWithCopyWarning: \n",
      "A value is trying to be set on a copy of a slice from a DataFrame.\n",
      "Try using .loc[row_indexer,col_indexer] = value instead\n",
      "\n",
      "See the caveats in the documentation: https://pandas.pydata.org/pandas-docs/stable/user_guide/indexing.html#returning-a-view-versus-a-copy\n",
      "  utterances['position'] = position\n",
      "/var/folders/2l/3kmvzs0s1sggnw_9sl0ls8080000gn/T/ipykernel_18431/2514948886.py:25: SettingWithCopyWarning: \n",
      "A value is trying to be set on a copy of a slice from a DataFrame.\n",
      "Try using .loc[row_indexer,col_indexer] = value instead\n",
      "\n",
      "See the caveats in the documentation: https://pandas.pydata.org/pandas-docs/stable/user_guide/indexing.html#returning-a-view-versus-a-copy\n",
      "  utterances['start'] += internal_start # add the start time of the recording\n",
      "/var/folders/2l/3kmvzs0s1sggnw_9sl0ls8080000gn/T/ipykernel_18431/2514948886.py:26: SettingWithCopyWarning: \n",
      "A value is trying to be set on a copy of a slice from a DataFrame.\n",
      "Try using .loc[row_indexer,col_indexer] = value instead\n",
      "\n",
      "See the caveats in the documentation: https://pandas.pydata.org/pandas-docs/stable/user_guide/indexing.html#returning-a-view-versus-a-copy\n",
      "  utterances['end'] += internal_start\n"
     ]
    },
    {
     "name": "stdout",
     "output_type": "stream",
     "text": [
      "file                     recordings/20240815_2018_miniPiAKNVYX/17237557...\n",
      "basename                 1723755710029-10933107-59d8-46eb-b78c-08f8f41b...\n",
      "track_type                                                           audio\n",
      "internal_start                                                       6.853\n",
      "resolution                                                             NaN\n",
      "resolution_x                                                           NaN\n",
      "track_group                                                              0\n",
      "group_internal_start                                                 6.853\n",
      "group_internal_offset                                                  0.0\n",
      "Name: 0, dtype: object\n",
      "transcribing recordings/20240815_2018_miniPiAKNVYX/1723755710029-10933107-59d8-46eb-b78c-08f8f41bca7a-cam-audio-1723755716888.webm\n"
     ]
    },
    {
     "name": "stderr",
     "output_type": "stream",
     "text": [
      "/var/folders/2l/3kmvzs0s1sggnw_9sl0ls8080000gn/T/ipykernel_18431/359421643.py:18: DeprecatedWarning: prerecorded is deprecated as of 3.4.0 and will be removed in 4.0.0. deepgram.listen.prerecorded is deprecated. Use deepgram.listen.rest instead.\n",
      "  response = deepgram.listen.prerecorded.v(\"1\").transcribe_file(payload, options)\n",
      "/var/folders/2l/3kmvzs0s1sggnw_9sl0ls8080000gn/T/ipykernel_18431/2514948886.py:24: SettingWithCopyWarning: \n",
      "A value is trying to be set on a copy of a slice from a DataFrame.\n",
      "Try using .loc[row_indexer,col_indexer] = value instead\n",
      "\n",
      "See the caveats in the documentation: https://pandas.pydata.org/pandas-docs/stable/user_guide/indexing.html#returning-a-view-versus-a-copy\n",
      "  utterances['position'] = position\n",
      "/var/folders/2l/3kmvzs0s1sggnw_9sl0ls8080000gn/T/ipykernel_18431/2514948886.py:25: SettingWithCopyWarning: \n",
      "A value is trying to be set on a copy of a slice from a DataFrame.\n",
      "Try using .loc[row_indexer,col_indexer] = value instead\n",
      "\n",
      "See the caveats in the documentation: https://pandas.pydata.org/pandas-docs/stable/user_guide/indexing.html#returning-a-view-versus-a-copy\n",
      "  utterances['start'] += internal_start # add the start time of the recording\n",
      "/var/folders/2l/3kmvzs0s1sggnw_9sl0ls8080000gn/T/ipykernel_18431/2514948886.py:26: SettingWithCopyWarning: \n",
      "A value is trying to be set on a copy of a slice from a DataFrame.\n",
      "Try using .loc[row_indexer,col_indexer] = value instead\n",
      "\n",
      "See the caveats in the documentation: https://pandas.pydata.org/pandas-docs/stable/user_guide/indexing.html#returning-a-view-versus-a-copy\n",
      "  utterances['end'] += internal_start\n"
     ]
    },
    {
     "name": "stdout",
     "output_type": "stream",
     "text": [
      "6 6\n",
      "remote_paths [{'Key': 'deliberation/20240829_1458_Pilot_WPJRZS/1724947320281-38571f69-2e40-4f76-80aa-f653964cda61-cam-audio-1724947321287', 'LastModified': datetime.datetime(2024, 8, 29, 16, 2, 2, tzinfo=tzutc()), 'ETag': '\"1c241eb761c98bc4bcea4eede954878a-1\"', 'Size': 2295177, 'StorageClass': 'STANDARD'}, {'Key': 'deliberation/20240829_1458_Pilot_WPJRZS/1724947320281-38571f69-2e40-4f76-80aa-f653964cda61-cam-video-1724947321283', 'LastModified': datetime.datetime(2024, 8, 29, 16, 2, 2, tzinfo=tzutc()), 'ETag': '\"581e3d3090b32ecd3762243ca99ac842-31\"', 'Size': 161115041, 'StorageClass': 'STANDARD'}, {'Key': 'deliberation/20240829_1458_Pilot_WPJRZS/1724947320281-7a0f03de-2c43-4769-b438-b854a379732d-cam-audio-1724947321286', 'LastModified': datetime.datetime(2024, 8, 29, 16, 2, 2, tzinfo=tzutc()), 'ETag': '\"8657b613c436c51d9359910d171b3613-1\"', 'Size': 2607181, 'StorageClass': 'STANDARD'}, {'Key': 'deliberation/20240829_1458_Pilot_WPJRZS/1724947320281-7a0f03de-2c43-4769-b438-b854a379732d-cam-video-1724947321288', 'LastModified': datetime.datetime(2024, 8, 29, 16, 2, 2, tzinfo=tzutc()), 'ETag': '\"674ed00b3033d6cb32c1191697f50b28-28\"', 'Size': 145058709, 'StorageClass': 'STANDARD'}]\n",
      "files ['deliberation/20240829_1458_Pilot_WPJRZS/1724947320281-7a0f03de-2c43-4769-b438-b854a379732d-cam-audio-1724947321286', 'deliberation/20240829_1458_Pilot_WPJRZS/1724947320281-7a0f03de-2c43-4769-b438-b854a379732d-cam-video-1724947321288']\n",
      "file                     recordings/20240829_1458_Pilot_WPJRZS/17249473...\n",
      "basename                 1724947320281-7a0f03de-2c43-4769-b438-b854a379...\n",
      "track_type                                                           audio\n",
      "internal_start                                                       0.973\n",
      "resolution                                                             NaN\n",
      "resolution_x                                                           NaN\n",
      "track_group                                                              0\n",
      "group_internal_start                                                 0.973\n",
      "group_internal_offset                                                  0.0\n",
      "Name: 0, dtype: object\n",
      "transcribing recordings/20240829_1458_Pilot_WPJRZS/1724947320281-7a0f03de-2c43-4769-b438-b854a379732d-cam-audio-1724947321286.webm\n"
     ]
    },
    {
     "name": "stderr",
     "output_type": "stream",
     "text": [
      "/var/folders/2l/3kmvzs0s1sggnw_9sl0ls8080000gn/T/ipykernel_18431/359421643.py:18: DeprecatedWarning: prerecorded is deprecated as of 3.4.0 and will be removed in 4.0.0. deepgram.listen.prerecorded is deprecated. Use deepgram.listen.rest instead.\n",
      "  response = deepgram.listen.prerecorded.v(\"1\").transcribe_file(payload, options)\n"
     ]
    },
    {
     "name": "stdout",
     "output_type": "stream",
     "text": [
      "7 7\n",
      "remote_paths [{'Key': 'deliberation/20240829_1458_Pilot_WPJRZS/1724947320281-38571f69-2e40-4f76-80aa-f653964cda61-cam-audio-1724947321287', 'LastModified': datetime.datetime(2024, 8, 29, 16, 2, 2, tzinfo=tzutc()), 'ETag': '\"1c241eb761c98bc4bcea4eede954878a-1\"', 'Size': 2295177, 'StorageClass': 'STANDARD'}, {'Key': 'deliberation/20240829_1458_Pilot_WPJRZS/1724947320281-38571f69-2e40-4f76-80aa-f653964cda61-cam-video-1724947321283', 'LastModified': datetime.datetime(2024, 8, 29, 16, 2, 2, tzinfo=tzutc()), 'ETag': '\"581e3d3090b32ecd3762243ca99ac842-31\"', 'Size': 161115041, 'StorageClass': 'STANDARD'}, {'Key': 'deliberation/20240829_1458_Pilot_WPJRZS/1724947320281-7a0f03de-2c43-4769-b438-b854a379732d-cam-audio-1724947321286', 'LastModified': datetime.datetime(2024, 8, 29, 16, 2, 2, tzinfo=tzutc()), 'ETag': '\"8657b613c436c51d9359910d171b3613-1\"', 'Size': 2607181, 'StorageClass': 'STANDARD'}, {'Key': 'deliberation/20240829_1458_Pilot_WPJRZS/1724947320281-7a0f03de-2c43-4769-b438-b854a379732d-cam-video-1724947321288', 'LastModified': datetime.datetime(2024, 8, 29, 16, 2, 2, tzinfo=tzutc()), 'ETag': '\"674ed00b3033d6cb32c1191697f50b28-28\"', 'Size': 145058709, 'StorageClass': 'STANDARD'}]\n",
      "files ['deliberation/20240829_1458_Pilot_WPJRZS/1724947320281-38571f69-2e40-4f76-80aa-f653964cda61-cam-audio-1724947321287', 'deliberation/20240829_1458_Pilot_WPJRZS/1724947320281-38571f69-2e40-4f76-80aa-f653964cda61-cam-video-1724947321283']\n"
     ]
    },
    {
     "name": "stderr",
     "output_type": "stream",
     "text": [
      "/var/folders/2l/3kmvzs0s1sggnw_9sl0ls8080000gn/T/ipykernel_18431/2514948886.py:24: SettingWithCopyWarning: \n",
      "A value is trying to be set on a copy of a slice from a DataFrame.\n",
      "Try using .loc[row_indexer,col_indexer] = value instead\n",
      "\n",
      "See the caveats in the documentation: https://pandas.pydata.org/pandas-docs/stable/user_guide/indexing.html#returning-a-view-versus-a-copy\n",
      "  utterances['position'] = position\n",
      "/var/folders/2l/3kmvzs0s1sggnw_9sl0ls8080000gn/T/ipykernel_18431/2514948886.py:25: SettingWithCopyWarning: \n",
      "A value is trying to be set on a copy of a slice from a DataFrame.\n",
      "Try using .loc[row_indexer,col_indexer] = value instead\n",
      "\n",
      "See the caveats in the documentation: https://pandas.pydata.org/pandas-docs/stable/user_guide/indexing.html#returning-a-view-versus-a-copy\n",
      "  utterances['start'] += internal_start # add the start time of the recording\n",
      "/var/folders/2l/3kmvzs0s1sggnw_9sl0ls8080000gn/T/ipykernel_18431/2514948886.py:26: SettingWithCopyWarning: \n",
      "A value is trying to be set on a copy of a slice from a DataFrame.\n",
      "Try using .loc[row_indexer,col_indexer] = value instead\n",
      "\n",
      "See the caveats in the documentation: https://pandas.pydata.org/pandas-docs/stable/user_guide/indexing.html#returning-a-view-versus-a-copy\n",
      "  utterances['end'] += internal_start\n"
     ]
    },
    {
     "name": "stdout",
     "output_type": "stream",
     "text": [
      "file                     recordings/20240829_1458_Pilot_WPJRZS/17249473...\n",
      "basename                 1724947320281-38571f69-2e40-4f76-80aa-f653964c...\n",
      "track_type                                                           audio\n",
      "internal_start                                                       0.969\n",
      "resolution                                                             NaN\n",
      "resolution_x                                                           NaN\n",
      "track_group                                                              0\n",
      "group_internal_start                                                 0.969\n",
      "group_internal_offset                                                  0.0\n",
      "Name: 0, dtype: object\n",
      "transcribing recordings/20240829_1458_Pilot_WPJRZS/1724947320281-38571f69-2e40-4f76-80aa-f653964cda61-cam-audio-1724947321287.webm\n"
     ]
    },
    {
     "name": "stderr",
     "output_type": "stream",
     "text": [
      "/var/folders/2l/3kmvzs0s1sggnw_9sl0ls8080000gn/T/ipykernel_18431/359421643.py:18: DeprecatedWarning: prerecorded is deprecated as of 3.4.0 and will be removed in 4.0.0. deepgram.listen.prerecorded is deprecated. Use deepgram.listen.rest instead.\n",
      "  response = deepgram.listen.prerecorded.v(\"1\").transcribe_file(payload, options)\n"
     ]
    },
    {
     "name": "stdout",
     "output_type": "stream",
     "text": [
      "8 8\n",
      "remote_paths [{'Key': 'deliberation/20240829_1458_Pilot_KZMBPG/1724947347486-0d3257a4-4d34-4149-9a6b-5ed74d80f54c-cam-audio-1724947348970', 'LastModified': datetime.datetime(2024, 8, 29, 16, 2, 30, tzinfo=tzutc()), 'ETag': '\"abe70f6a60c2a471e96b112a5e9a70ba-1\"', 'Size': 2411356, 'StorageClass': 'STANDARD'}, {'Key': 'deliberation/20240829_1458_Pilot_KZMBPG/1724947347486-0d3257a4-4d34-4149-9a6b-5ed74d80f54c-cam-video-1724947348971', 'LastModified': datetime.datetime(2024, 8, 29, 16, 2, 30, tzinfo=tzutc()), 'ETag': '\"0cfc8fec3e8c4b7ba1cf21ed60906960-24\"', 'Size': 121098544, 'StorageClass': 'STANDARD'}, {'Key': 'deliberation/20240829_1458_Pilot_KZMBPG/1724947347486-99db951a-efbe-4935-abe1-ec4aa6cf3937-cam-audio-1724947348459', 'LastModified': datetime.datetime(2024, 8, 29, 16, 2, 29, tzinfo=tzutc()), 'ETag': '\"456f4e0ffefe84b651bdcb59e2055837-1\"', 'Size': 2525125, 'StorageClass': 'STANDARD'}, {'Key': 'deliberation/20240829_1458_Pilot_KZMBPG/1724947347486-99db951a-efbe-4935-abe1-ec4aa6cf3937-cam-video-1724947348461', 'LastModified': datetime.datetime(2024, 8, 29, 16, 2, 29, tzinfo=tzutc()), 'ETag': '\"9f3325d3e6b9e3165ff3d93f26f937e0-28\"', 'Size': 144354245, 'StorageClass': 'STANDARD'}]\n",
      "files ['deliberation/20240829_1458_Pilot_KZMBPG/1724947347486-99db951a-efbe-4935-abe1-ec4aa6cf3937-cam-audio-1724947348459', 'deliberation/20240829_1458_Pilot_KZMBPG/1724947347486-99db951a-efbe-4935-abe1-ec4aa6cf3937-cam-video-1724947348461']\n"
     ]
    },
    {
     "name": "stderr",
     "output_type": "stream",
     "text": [
      "/var/folders/2l/3kmvzs0s1sggnw_9sl0ls8080000gn/T/ipykernel_18431/2514948886.py:24: SettingWithCopyWarning: \n",
      "A value is trying to be set on a copy of a slice from a DataFrame.\n",
      "Try using .loc[row_indexer,col_indexer] = value instead\n",
      "\n",
      "See the caveats in the documentation: https://pandas.pydata.org/pandas-docs/stable/user_guide/indexing.html#returning-a-view-versus-a-copy\n",
      "  utterances['position'] = position\n",
      "/var/folders/2l/3kmvzs0s1sggnw_9sl0ls8080000gn/T/ipykernel_18431/2514948886.py:25: SettingWithCopyWarning: \n",
      "A value is trying to be set on a copy of a slice from a DataFrame.\n",
      "Try using .loc[row_indexer,col_indexer] = value instead\n",
      "\n",
      "See the caveats in the documentation: https://pandas.pydata.org/pandas-docs/stable/user_guide/indexing.html#returning-a-view-versus-a-copy\n",
      "  utterances['start'] += internal_start # add the start time of the recording\n",
      "/var/folders/2l/3kmvzs0s1sggnw_9sl0ls8080000gn/T/ipykernel_18431/2514948886.py:26: SettingWithCopyWarning: \n",
      "A value is trying to be set on a copy of a slice from a DataFrame.\n",
      "Try using .loc[row_indexer,col_indexer] = value instead\n",
      "\n",
      "See the caveats in the documentation: https://pandas.pydata.org/pandas-docs/stable/user_guide/indexing.html#returning-a-view-versus-a-copy\n",
      "  utterances['end'] += internal_start\n"
     ]
    },
    {
     "name": "stdout",
     "output_type": "stream",
     "text": [
      "file                     recordings/20240829_1458_Pilot_KZMBPG/17249473...\n",
      "basename                 1724947347486-99db951a-efbe-4935-abe1-ec4aa6cf...\n",
      "track_type                                                           audio\n",
      "internal_start                                                       0.981\n",
      "resolution                                                             NaN\n",
      "resolution_x                                                           NaN\n",
      "track_group                                                              0\n",
      "group_internal_start                                                 0.981\n",
      "group_internal_offset                                                  0.0\n",
      "Name: 0, dtype: object\n",
      "transcribing recordings/20240829_1458_Pilot_KZMBPG/1724947347486-99db951a-efbe-4935-abe1-ec4aa6cf3937-cam-audio-1724947348459.webm\n"
     ]
    },
    {
     "name": "stderr",
     "output_type": "stream",
     "text": [
      "/var/folders/2l/3kmvzs0s1sggnw_9sl0ls8080000gn/T/ipykernel_18431/359421643.py:18: DeprecatedWarning: prerecorded is deprecated as of 3.4.0 and will be removed in 4.0.0. deepgram.listen.prerecorded is deprecated. Use deepgram.listen.rest instead.\n",
      "  response = deepgram.listen.prerecorded.v(\"1\").transcribe_file(payload, options)\n"
     ]
    },
    {
     "name": "stdout",
     "output_type": "stream",
     "text": [
      "9 9\n",
      "remote_paths [{'Key': 'deliberation/20240829_1458_Pilot_KZMBPG/1724947347486-0d3257a4-4d34-4149-9a6b-5ed74d80f54c-cam-audio-1724947348970', 'LastModified': datetime.datetime(2024, 8, 29, 16, 2, 30, tzinfo=tzutc()), 'ETag': '\"abe70f6a60c2a471e96b112a5e9a70ba-1\"', 'Size': 2411356, 'StorageClass': 'STANDARD'}, {'Key': 'deliberation/20240829_1458_Pilot_KZMBPG/1724947347486-0d3257a4-4d34-4149-9a6b-5ed74d80f54c-cam-video-1724947348971', 'LastModified': datetime.datetime(2024, 8, 29, 16, 2, 30, tzinfo=tzutc()), 'ETag': '\"0cfc8fec3e8c4b7ba1cf21ed60906960-24\"', 'Size': 121098544, 'StorageClass': 'STANDARD'}, {'Key': 'deliberation/20240829_1458_Pilot_KZMBPG/1724947347486-99db951a-efbe-4935-abe1-ec4aa6cf3937-cam-audio-1724947348459', 'LastModified': datetime.datetime(2024, 8, 29, 16, 2, 29, tzinfo=tzutc()), 'ETag': '\"456f4e0ffefe84b651bdcb59e2055837-1\"', 'Size': 2525125, 'StorageClass': 'STANDARD'}, {'Key': 'deliberation/20240829_1458_Pilot_KZMBPG/1724947347486-99db951a-efbe-4935-abe1-ec4aa6cf3937-cam-video-1724947348461', 'LastModified': datetime.datetime(2024, 8, 29, 16, 2, 29, tzinfo=tzutc()), 'ETag': '\"9f3325d3e6b9e3165ff3d93f26f937e0-28\"', 'Size': 144354245, 'StorageClass': 'STANDARD'}]\n",
      "files ['deliberation/20240829_1458_Pilot_KZMBPG/1724947347486-0d3257a4-4d34-4149-9a6b-5ed74d80f54c-cam-audio-1724947348970', 'deliberation/20240829_1458_Pilot_KZMBPG/1724947347486-0d3257a4-4d34-4149-9a6b-5ed74d80f54c-cam-video-1724947348971']\n"
     ]
    },
    {
     "name": "stderr",
     "output_type": "stream",
     "text": [
      "/var/folders/2l/3kmvzs0s1sggnw_9sl0ls8080000gn/T/ipykernel_18431/2514948886.py:24: SettingWithCopyWarning: \n",
      "A value is trying to be set on a copy of a slice from a DataFrame.\n",
      "Try using .loc[row_indexer,col_indexer] = value instead\n",
      "\n",
      "See the caveats in the documentation: https://pandas.pydata.org/pandas-docs/stable/user_guide/indexing.html#returning-a-view-versus-a-copy\n",
      "  utterances['position'] = position\n",
      "/var/folders/2l/3kmvzs0s1sggnw_9sl0ls8080000gn/T/ipykernel_18431/2514948886.py:25: SettingWithCopyWarning: \n",
      "A value is trying to be set on a copy of a slice from a DataFrame.\n",
      "Try using .loc[row_indexer,col_indexer] = value instead\n",
      "\n",
      "See the caveats in the documentation: https://pandas.pydata.org/pandas-docs/stable/user_guide/indexing.html#returning-a-view-versus-a-copy\n",
      "  utterances['start'] += internal_start # add the start time of the recording\n",
      "/var/folders/2l/3kmvzs0s1sggnw_9sl0ls8080000gn/T/ipykernel_18431/2514948886.py:26: SettingWithCopyWarning: \n",
      "A value is trying to be set on a copy of a slice from a DataFrame.\n",
      "Try using .loc[row_indexer,col_indexer] = value instead\n",
      "\n",
      "See the caveats in the documentation: https://pandas.pydata.org/pandas-docs/stable/user_guide/indexing.html#returning-a-view-versus-a-copy\n",
      "  utterances['end'] += internal_start\n"
     ]
    },
    {
     "name": "stdout",
     "output_type": "stream",
     "text": [
      "file                     recordings/20240829_1458_Pilot_KZMBPG/17249473...\n",
      "basename                 1724947347486-0d3257a4-4d34-4149-9a6b-5ed74d80...\n",
      "track_type                                                           audio\n",
      "internal_start                                                       1.465\n",
      "resolution                                                             NaN\n",
      "resolution_x                                                           NaN\n",
      "track_group                                                              0\n",
      "group_internal_start                                                 1.465\n",
      "group_internal_offset                                                  0.0\n",
      "Name: 0, dtype: object\n",
      "transcribing recordings/20240829_1458_Pilot_KZMBPG/1724947347486-0d3257a4-4d34-4149-9a6b-5ed74d80f54c-cam-audio-1724947348970.webm\n"
     ]
    },
    {
     "name": "stderr",
     "output_type": "stream",
     "text": [
      "/var/folders/2l/3kmvzs0s1sggnw_9sl0ls8080000gn/T/ipykernel_18431/359421643.py:18: DeprecatedWarning: prerecorded is deprecated as of 3.4.0 and will be removed in 4.0.0. deepgram.listen.prerecorded is deprecated. Use deepgram.listen.rest instead.\n",
      "  response = deepgram.listen.prerecorded.v(\"1\").transcribe_file(payload, options)\n"
     ]
    },
    {
     "name": "stdout",
     "output_type": "stream",
     "text": [
      "10 10\n",
      "remote_paths [{'Key': 'deliberation/20240829_1458_Pilot_DJEZ7J/1724947330766-0d8d20df-4dea-452d-adcf-677a5557faa3-cam-audio-1724947331740', 'LastModified': datetime.datetime(2024, 8, 29, 16, 2, 13, tzinfo=tzutc()), 'ETag': '\"1a6fda6907321a4165b046a276532aa6-1\"', 'Size': 2468661, 'StorageClass': 'STANDARD'}, {'Key': 'deliberation/20240829_1458_Pilot_DJEZ7J/1724947330766-0d8d20df-4dea-452d-adcf-677a5557faa3-cam-video-1724947331743', 'LastModified': datetime.datetime(2024, 8, 29, 16, 2, 13, tzinfo=tzutc()), 'ETag': '\"f5af960b9c48f8c06f333533c0892c3c-32\"', 'Size': 163188227, 'StorageClass': 'STANDARD'}, {'Key': 'deliberation/20240829_1458_Pilot_DJEZ7J/1724947330766-a5579efe-44ef-47f9-ae7a-9c3d6eaf1f97-cam-audio-1724947331741', 'LastModified': datetime.datetime(2024, 8, 29, 16, 2, 13, tzinfo=tzutc()), 'ETag': '\"b1fd0763f7cfc9ac860a048fd96db21b-1\"', 'Size': 2429626, 'StorageClass': 'STANDARD'}, {'Key': 'deliberation/20240829_1458_Pilot_DJEZ7J/1724947330766-a5579efe-44ef-47f9-ae7a-9c3d6eaf1f97-cam-video-1724947331738', 'LastModified': datetime.datetime(2024, 8, 29, 16, 2, 13, tzinfo=tzutc()), 'ETag': '\"21d434b47219b533e804886e35c3cd7d-31\"', 'Size': 161019801, 'StorageClass': 'STANDARD'}]\n",
      "files ['deliberation/20240829_1458_Pilot_DJEZ7J/1724947330766-a5579efe-44ef-47f9-ae7a-9c3d6eaf1f97-cam-audio-1724947331741', 'deliberation/20240829_1458_Pilot_DJEZ7J/1724947330766-a5579efe-44ef-47f9-ae7a-9c3d6eaf1f97-cam-video-1724947331738']\n"
     ]
    },
    {
     "name": "stderr",
     "output_type": "stream",
     "text": [
      "/var/folders/2l/3kmvzs0s1sggnw_9sl0ls8080000gn/T/ipykernel_18431/2514948886.py:24: SettingWithCopyWarning: \n",
      "A value is trying to be set on a copy of a slice from a DataFrame.\n",
      "Try using .loc[row_indexer,col_indexer] = value instead\n",
      "\n",
      "See the caveats in the documentation: https://pandas.pydata.org/pandas-docs/stable/user_guide/indexing.html#returning-a-view-versus-a-copy\n",
      "  utterances['position'] = position\n",
      "/var/folders/2l/3kmvzs0s1sggnw_9sl0ls8080000gn/T/ipykernel_18431/2514948886.py:25: SettingWithCopyWarning: \n",
      "A value is trying to be set on a copy of a slice from a DataFrame.\n",
      "Try using .loc[row_indexer,col_indexer] = value instead\n",
      "\n",
      "See the caveats in the documentation: https://pandas.pydata.org/pandas-docs/stable/user_guide/indexing.html#returning-a-view-versus-a-copy\n",
      "  utterances['start'] += internal_start # add the start time of the recording\n",
      "/var/folders/2l/3kmvzs0s1sggnw_9sl0ls8080000gn/T/ipykernel_18431/2514948886.py:26: SettingWithCopyWarning: \n",
      "A value is trying to be set on a copy of a slice from a DataFrame.\n",
      "Try using .loc[row_indexer,col_indexer] = value instead\n",
      "\n",
      "See the caveats in the documentation: https://pandas.pydata.org/pandas-docs/stable/user_guide/indexing.html#returning-a-view-versus-a-copy\n",
      "  utterances['end'] += internal_start\n"
     ]
    },
    {
     "name": "stdout",
     "output_type": "stream",
     "text": [
      "file                     recordings/20240829_1458_Pilot_DJEZ7J/17249473...\n",
      "basename                 1724947330766-a5579efe-44ef-47f9-ae7a-9c3d6eaf...\n",
      "track_type                                                           audio\n",
      "internal_start                                                       0.954\n",
      "resolution                                                             NaN\n",
      "resolution_x                                                           NaN\n",
      "track_group                                                              0\n",
      "group_internal_start                                                 0.954\n",
      "group_internal_offset                                                  0.0\n",
      "Name: 0, dtype: object\n",
      "transcribing recordings/20240829_1458_Pilot_DJEZ7J/1724947330766-a5579efe-44ef-47f9-ae7a-9c3d6eaf1f97-cam-audio-1724947331741.webm\n"
     ]
    },
    {
     "name": "stderr",
     "output_type": "stream",
     "text": [
      "/var/folders/2l/3kmvzs0s1sggnw_9sl0ls8080000gn/T/ipykernel_18431/359421643.py:18: DeprecatedWarning: prerecorded is deprecated as of 3.4.0 and will be removed in 4.0.0. deepgram.listen.prerecorded is deprecated. Use deepgram.listen.rest instead.\n",
      "  response = deepgram.listen.prerecorded.v(\"1\").transcribe_file(payload, options)\n"
     ]
    },
    {
     "name": "stdout",
     "output_type": "stream",
     "text": [
      "11 11\n",
      "remote_paths [{'Key': 'deliberation/20240829_1458_Pilot_DJEZ7J/1724947330766-0d8d20df-4dea-452d-adcf-677a5557faa3-cam-audio-1724947331740', 'LastModified': datetime.datetime(2024, 8, 29, 16, 2, 13, tzinfo=tzutc()), 'ETag': '\"1a6fda6907321a4165b046a276532aa6-1\"', 'Size': 2468661, 'StorageClass': 'STANDARD'}, {'Key': 'deliberation/20240829_1458_Pilot_DJEZ7J/1724947330766-0d8d20df-4dea-452d-adcf-677a5557faa3-cam-video-1724947331743', 'LastModified': datetime.datetime(2024, 8, 29, 16, 2, 13, tzinfo=tzutc()), 'ETag': '\"f5af960b9c48f8c06f333533c0892c3c-32\"', 'Size': 163188227, 'StorageClass': 'STANDARD'}, {'Key': 'deliberation/20240829_1458_Pilot_DJEZ7J/1724947330766-a5579efe-44ef-47f9-ae7a-9c3d6eaf1f97-cam-audio-1724947331741', 'LastModified': datetime.datetime(2024, 8, 29, 16, 2, 13, tzinfo=tzutc()), 'ETag': '\"b1fd0763f7cfc9ac860a048fd96db21b-1\"', 'Size': 2429626, 'StorageClass': 'STANDARD'}, {'Key': 'deliberation/20240829_1458_Pilot_DJEZ7J/1724947330766-a5579efe-44ef-47f9-ae7a-9c3d6eaf1f97-cam-video-1724947331738', 'LastModified': datetime.datetime(2024, 8, 29, 16, 2, 13, tzinfo=tzutc()), 'ETag': '\"21d434b47219b533e804886e35c3cd7d-31\"', 'Size': 161019801, 'StorageClass': 'STANDARD'}]\n",
      "files ['deliberation/20240829_1458_Pilot_DJEZ7J/1724947330766-0d8d20df-4dea-452d-adcf-677a5557faa3-cam-audio-1724947331740', 'deliberation/20240829_1458_Pilot_DJEZ7J/1724947330766-0d8d20df-4dea-452d-adcf-677a5557faa3-cam-video-1724947331743']\n"
     ]
    },
    {
     "name": "stderr",
     "output_type": "stream",
     "text": [
      "/var/folders/2l/3kmvzs0s1sggnw_9sl0ls8080000gn/T/ipykernel_18431/2514948886.py:24: SettingWithCopyWarning: \n",
      "A value is trying to be set on a copy of a slice from a DataFrame.\n",
      "Try using .loc[row_indexer,col_indexer] = value instead\n",
      "\n",
      "See the caveats in the documentation: https://pandas.pydata.org/pandas-docs/stable/user_guide/indexing.html#returning-a-view-versus-a-copy\n",
      "  utterances['position'] = position\n",
      "/var/folders/2l/3kmvzs0s1sggnw_9sl0ls8080000gn/T/ipykernel_18431/2514948886.py:25: SettingWithCopyWarning: \n",
      "A value is trying to be set on a copy of a slice from a DataFrame.\n",
      "Try using .loc[row_indexer,col_indexer] = value instead\n",
      "\n",
      "See the caveats in the documentation: https://pandas.pydata.org/pandas-docs/stable/user_guide/indexing.html#returning-a-view-versus-a-copy\n",
      "  utterances['start'] += internal_start # add the start time of the recording\n",
      "/var/folders/2l/3kmvzs0s1sggnw_9sl0ls8080000gn/T/ipykernel_18431/2514948886.py:26: SettingWithCopyWarning: \n",
      "A value is trying to be set on a copy of a slice from a DataFrame.\n",
      "Try using .loc[row_indexer,col_indexer] = value instead\n",
      "\n",
      "See the caveats in the documentation: https://pandas.pydata.org/pandas-docs/stable/user_guide/indexing.html#returning-a-view-versus-a-copy\n",
      "  utterances['end'] += internal_start\n"
     ]
    },
    {
     "name": "stdout",
     "output_type": "stream",
     "text": [
      "file                     recordings/20240829_1458_Pilot_DJEZ7J/17249473...\n",
      "basename                 1724947330766-0d8d20df-4dea-452d-adcf-677a5557...\n",
      "track_type                                                           audio\n",
      "internal_start                                                        0.94\n",
      "resolution                                                             NaN\n",
      "resolution_x                                                           NaN\n",
      "track_group                                                              0\n",
      "group_internal_start                                                  0.94\n",
      "group_internal_offset                                                  0.0\n",
      "Name: 0, dtype: object\n",
      "transcribing recordings/20240829_1458_Pilot_DJEZ7J/1724947330766-0d8d20df-4dea-452d-adcf-677a5557faa3-cam-audio-1724947331740.webm\n"
     ]
    },
    {
     "name": "stderr",
     "output_type": "stream",
     "text": [
      "/var/folders/2l/3kmvzs0s1sggnw_9sl0ls8080000gn/T/ipykernel_18431/359421643.py:18: DeprecatedWarning: prerecorded is deprecated as of 3.4.0 and will be removed in 4.0.0. deepgram.listen.prerecorded is deprecated. Use deepgram.listen.rest instead.\n",
      "  response = deepgram.listen.prerecorded.v(\"1\").transcribe_file(payload, options)\n"
     ]
    },
    {
     "name": "stdout",
     "output_type": "stream",
     "text": [
      "12 12\n",
      "remote_paths [{'Key': 'deliberation/20240829_1458_Pilot_RPEK4Z/1724947318124-167882d9-17b9-45e1-8bb3-378f06fe91dc-cam-audio-1724947319118', 'LastModified': datetime.datetime(2024, 8, 29, 16, 2, tzinfo=tzutc()), 'ETag': '\"c3f87e67c342fe3fc133a0a1e675bc5f-1\"', 'Size': 2258374, 'StorageClass': 'STANDARD'}, {'Key': 'deliberation/20240829_1458_Pilot_RPEK4Z/1724947318124-167882d9-17b9-45e1-8bb3-378f06fe91dc-cam-video-1724947319121', 'LastModified': datetime.datetime(2024, 8, 29, 16, 2, tzinfo=tzutc()), 'ETag': '\"f219edfb16a6dc1a4810fae9b542b4eb-10\"', 'Size': 47710571, 'StorageClass': 'STANDARD'}, {'Key': 'deliberation/20240829_1458_Pilot_RPEK4Z/1724947318124-35f93985-cd7b-4eba-ad1d-9599edbe5ada-cam-audio-1724947319122', 'LastModified': datetime.datetime(2024, 8, 29, 16, 2, tzinfo=tzutc()), 'ETag': '\"86949806c6aefd49d992839a0650731f-1\"', 'Size': 1869865, 'StorageClass': 'STANDARD'}, {'Key': 'deliberation/20240829_1458_Pilot_RPEK4Z/1724947318124-35f93985-cd7b-4eba-ad1d-9599edbe5ada-cam-video-1724947319123', 'LastModified': datetime.datetime(2024, 8, 29, 16, 2, tzinfo=tzutc()), 'ETag': '\"7fe7ab9e9173b09fe4d739fecdaa0b83-24\"', 'Size': 124045644, 'StorageClass': 'STANDARD'}]\n",
      "files ['deliberation/20240829_1458_Pilot_RPEK4Z/1724947318124-167882d9-17b9-45e1-8bb3-378f06fe91dc-cam-audio-1724947319118', 'deliberation/20240829_1458_Pilot_RPEK4Z/1724947318124-167882d9-17b9-45e1-8bb3-378f06fe91dc-cam-video-1724947319121']\n"
     ]
    },
    {
     "name": "stderr",
     "output_type": "stream",
     "text": [
      "/var/folders/2l/3kmvzs0s1sggnw_9sl0ls8080000gn/T/ipykernel_18431/2514948886.py:24: SettingWithCopyWarning: \n",
      "A value is trying to be set on a copy of a slice from a DataFrame.\n",
      "Try using .loc[row_indexer,col_indexer] = value instead\n",
      "\n",
      "See the caveats in the documentation: https://pandas.pydata.org/pandas-docs/stable/user_guide/indexing.html#returning-a-view-versus-a-copy\n",
      "  utterances['position'] = position\n",
      "/var/folders/2l/3kmvzs0s1sggnw_9sl0ls8080000gn/T/ipykernel_18431/2514948886.py:25: SettingWithCopyWarning: \n",
      "A value is trying to be set on a copy of a slice from a DataFrame.\n",
      "Try using .loc[row_indexer,col_indexer] = value instead\n",
      "\n",
      "See the caveats in the documentation: https://pandas.pydata.org/pandas-docs/stable/user_guide/indexing.html#returning-a-view-versus-a-copy\n",
      "  utterances['start'] += internal_start # add the start time of the recording\n",
      "/var/folders/2l/3kmvzs0s1sggnw_9sl0ls8080000gn/T/ipykernel_18431/2514948886.py:26: SettingWithCopyWarning: \n",
      "A value is trying to be set on a copy of a slice from a DataFrame.\n",
      "Try using .loc[row_indexer,col_indexer] = value instead\n",
      "\n",
      "See the caveats in the documentation: https://pandas.pydata.org/pandas-docs/stable/user_guide/indexing.html#returning-a-view-versus-a-copy\n",
      "  utterances['end'] += internal_start\n"
     ]
    },
    {
     "name": "stdout",
     "output_type": "stream",
     "text": [
      "file                     recordings/20240829_1458_Pilot_RPEK4Z/17249473...\n",
      "basename                 1724947318124-167882d9-17b9-45e1-8bb3-378f06fe...\n",
      "track_type                                                           audio\n",
      "internal_start                                                       0.959\n",
      "resolution                                                             NaN\n",
      "resolution_x                                                           NaN\n",
      "track_group                                                              0\n",
      "group_internal_start                                                 0.959\n",
      "group_internal_offset                                                  0.0\n",
      "Name: 0, dtype: object\n",
      "transcribing recordings/20240829_1458_Pilot_RPEK4Z/1724947318124-167882d9-17b9-45e1-8bb3-378f06fe91dc-cam-audio-1724947319118.webm\n"
     ]
    },
    {
     "name": "stderr",
     "output_type": "stream",
     "text": [
      "/var/folders/2l/3kmvzs0s1sggnw_9sl0ls8080000gn/T/ipykernel_18431/359421643.py:18: DeprecatedWarning: prerecorded is deprecated as of 3.4.0 and will be removed in 4.0.0. deepgram.listen.prerecorded is deprecated. Use deepgram.listen.rest instead.\n",
      "  response = deepgram.listen.prerecorded.v(\"1\").transcribe_file(payload, options)\n",
      "/var/folders/2l/3kmvzs0s1sggnw_9sl0ls8080000gn/T/ipykernel_18431/2514948886.py:24: SettingWithCopyWarning: \n",
      "A value is trying to be set on a copy of a slice from a DataFrame.\n",
      "Try using .loc[row_indexer,col_indexer] = value instead\n",
      "\n",
      "See the caveats in the documentation: https://pandas.pydata.org/pandas-docs/stable/user_guide/indexing.html#returning-a-view-versus-a-copy\n",
      "  utterances['position'] = position\n",
      "/var/folders/2l/3kmvzs0s1sggnw_9sl0ls8080000gn/T/ipykernel_18431/2514948886.py:25: SettingWithCopyWarning: \n",
      "A value is trying to be set on a copy of a slice from a DataFrame.\n",
      "Try using .loc[row_indexer,col_indexer] = value instead\n",
      "\n",
      "See the caveats in the documentation: https://pandas.pydata.org/pandas-docs/stable/user_guide/indexing.html#returning-a-view-versus-a-copy\n",
      "  utterances['start'] += internal_start # add the start time of the recording\n",
      "/var/folders/2l/3kmvzs0s1sggnw_9sl0ls8080000gn/T/ipykernel_18431/2514948886.py:26: SettingWithCopyWarning: \n",
      "A value is trying to be set on a copy of a slice from a DataFrame.\n",
      "Try using .loc[row_indexer,col_indexer] = value instead\n",
      "\n",
      "See the caveats in the documentation: https://pandas.pydata.org/pandas-docs/stable/user_guide/indexing.html#returning-a-view-versus-a-copy\n",
      "  utterances['end'] += internal_start\n"
     ]
    },
    {
     "name": "stdout",
     "output_type": "stream",
     "text": [
      "13 13\n",
      "remote_paths [{'Key': 'deliberation/20240829_1458_Pilot_RPEK4Z/1724947318124-167882d9-17b9-45e1-8bb3-378f06fe91dc-cam-audio-1724947319118', 'LastModified': datetime.datetime(2024, 8, 29, 16, 2, tzinfo=tzutc()), 'ETag': '\"c3f87e67c342fe3fc133a0a1e675bc5f-1\"', 'Size': 2258374, 'StorageClass': 'STANDARD'}, {'Key': 'deliberation/20240829_1458_Pilot_RPEK4Z/1724947318124-167882d9-17b9-45e1-8bb3-378f06fe91dc-cam-video-1724947319121', 'LastModified': datetime.datetime(2024, 8, 29, 16, 2, tzinfo=tzutc()), 'ETag': '\"f219edfb16a6dc1a4810fae9b542b4eb-10\"', 'Size': 47710571, 'StorageClass': 'STANDARD'}, {'Key': 'deliberation/20240829_1458_Pilot_RPEK4Z/1724947318124-35f93985-cd7b-4eba-ad1d-9599edbe5ada-cam-audio-1724947319122', 'LastModified': datetime.datetime(2024, 8, 29, 16, 2, tzinfo=tzutc()), 'ETag': '\"86949806c6aefd49d992839a0650731f-1\"', 'Size': 1869865, 'StorageClass': 'STANDARD'}, {'Key': 'deliberation/20240829_1458_Pilot_RPEK4Z/1724947318124-35f93985-cd7b-4eba-ad1d-9599edbe5ada-cam-video-1724947319123', 'LastModified': datetime.datetime(2024, 8, 29, 16, 2, tzinfo=tzutc()), 'ETag': '\"7fe7ab9e9173b09fe4d739fecdaa0b83-24\"', 'Size': 124045644, 'StorageClass': 'STANDARD'}]\n",
      "files ['deliberation/20240829_1458_Pilot_RPEK4Z/1724947318124-35f93985-cd7b-4eba-ad1d-9599edbe5ada-cam-audio-1724947319122', 'deliberation/20240829_1458_Pilot_RPEK4Z/1724947318124-35f93985-cd7b-4eba-ad1d-9599edbe5ada-cam-video-1724947319123']\n",
      "file                     recordings/20240829_1458_Pilot_RPEK4Z/17249473...\n",
      "basename                 1724947318124-35f93985-cd7b-4eba-ad1d-9599edbe...\n",
      "track_type                                                           audio\n",
      "internal_start                                                       0.956\n",
      "resolution                                                             NaN\n",
      "resolution_x                                                           NaN\n",
      "track_group                                                              0\n",
      "group_internal_start                                                 0.956\n",
      "group_internal_offset                                                  0.0\n",
      "Name: 0, dtype: object\n",
      "transcribing recordings/20240829_1458_Pilot_RPEK4Z/1724947318124-35f93985-cd7b-4eba-ad1d-9599edbe5ada-cam-audio-1724947319122.webm\n"
     ]
    },
    {
     "name": "stderr",
     "output_type": "stream",
     "text": [
      "/var/folders/2l/3kmvzs0s1sggnw_9sl0ls8080000gn/T/ipykernel_18431/359421643.py:18: DeprecatedWarning: prerecorded is deprecated as of 3.4.0 and will be removed in 4.0.0. deepgram.listen.prerecorded is deprecated. Use deepgram.listen.rest instead.\n",
      "  response = deepgram.listen.prerecorded.v(\"1\").transcribe_file(payload, options)\n"
     ]
    },
    {
     "name": "stdout",
     "output_type": "stream",
     "text": [
      "14 14\n",
      "remote_paths [{'Key': 'deliberation/20240904_1519_Pilot_DPJ9MG/1725467538059-77e6eb12-c67d-49cf-8ac6-a44914aef3cd-cam-audio-1725467539069', 'LastModified': datetime.datetime(2024, 9, 4, 16, 32, 20, tzinfo=tzutc()), 'ETag': '\"6e905595d6a21a8048a19476b4f095c8-1\"', 'Size': 2101574, 'StorageClass': 'STANDARD'}, {'Key': 'deliberation/20240904_1519_Pilot_DPJ9MG/1725467538059-77e6eb12-c67d-49cf-8ac6-a44914aef3cd-cam-video-1725467539071', 'LastModified': datetime.datetime(2024, 9, 4, 16, 32, 20, tzinfo=tzutc()), 'ETag': '\"5d3a408afd4d7a1381b8e1d20432080d-28\"', 'Size': 141835116, 'StorageClass': 'STANDARD'}, {'Key': 'deliberation/20240904_1519_Pilot_DPJ9MG/1725467538059-fde34445-0d5c-4234-90d9-526649b83a25-cam-audio-1725467547832', 'LastModified': datetime.datetime(2024, 9, 4, 16, 32, 29, tzinfo=tzutc()), 'ETag': '\"cd9225c38a1934e3ccc06fbf66df0848-1\"', 'Size': 2285272, 'StorageClass': 'STANDARD'}, {'Key': 'deliberation/20240904_1519_Pilot_DPJ9MG/1725467538059-fde34445-0d5c-4234-90d9-526649b83a25-cam-video-1725467549484', 'LastModified': datetime.datetime(2024, 9, 4, 16, 32, 30, tzinfo=tzutc()), 'ETag': '\"94c6bac864cb2c21942760624d424e3f-2\"', 'Size': 6261055, 'StorageClass': 'STANDARD'}]\n",
      "files ['deliberation/20240904_1519_Pilot_DPJ9MG/1725467538059-77e6eb12-c67d-49cf-8ac6-a44914aef3cd-cam-audio-1725467539069', 'deliberation/20240904_1519_Pilot_DPJ9MG/1725467538059-77e6eb12-c67d-49cf-8ac6-a44914aef3cd-cam-video-1725467539071']\n"
     ]
    },
    {
     "name": "stderr",
     "output_type": "stream",
     "text": [
      "/var/folders/2l/3kmvzs0s1sggnw_9sl0ls8080000gn/T/ipykernel_18431/2514948886.py:24: SettingWithCopyWarning: \n",
      "A value is trying to be set on a copy of a slice from a DataFrame.\n",
      "Try using .loc[row_indexer,col_indexer] = value instead\n",
      "\n",
      "See the caveats in the documentation: https://pandas.pydata.org/pandas-docs/stable/user_guide/indexing.html#returning-a-view-versus-a-copy\n",
      "  utterances['position'] = position\n",
      "/var/folders/2l/3kmvzs0s1sggnw_9sl0ls8080000gn/T/ipykernel_18431/2514948886.py:25: SettingWithCopyWarning: \n",
      "A value is trying to be set on a copy of a slice from a DataFrame.\n",
      "Try using .loc[row_indexer,col_indexer] = value instead\n",
      "\n",
      "See the caveats in the documentation: https://pandas.pydata.org/pandas-docs/stable/user_guide/indexing.html#returning-a-view-versus-a-copy\n",
      "  utterances['start'] += internal_start # add the start time of the recording\n",
      "/var/folders/2l/3kmvzs0s1sggnw_9sl0ls8080000gn/T/ipykernel_18431/2514948886.py:26: SettingWithCopyWarning: \n",
      "A value is trying to be set on a copy of a slice from a DataFrame.\n",
      "Try using .loc[row_indexer,col_indexer] = value instead\n",
      "\n",
      "See the caveats in the documentation: https://pandas.pydata.org/pandas-docs/stable/user_guide/indexing.html#returning-a-view-versus-a-copy\n",
      "  utterances['end'] += internal_start\n"
     ]
    },
    {
     "name": "stdout",
     "output_type": "stream",
     "text": [
      "file                     recordings/20240904_1519_Pilot_DPJ9MG/17254675...\n",
      "basename                 1725467538059-77e6eb12-c67d-49cf-8ac6-a44914ae...\n",
      "track_type                                                           audio\n",
      "internal_start                                                       0.963\n",
      "resolution                                                             NaN\n",
      "resolution_x                                                           NaN\n",
      "track_group                                                              0\n",
      "group_internal_start                                                 0.963\n",
      "group_internal_offset                                                  0.0\n",
      "Name: 0, dtype: object\n",
      "transcribing recordings/20240904_1519_Pilot_DPJ9MG/1725467538059-77e6eb12-c67d-49cf-8ac6-a44914aef3cd-cam-audio-1725467539069.webm\n"
     ]
    },
    {
     "name": "stderr",
     "output_type": "stream",
     "text": [
      "/var/folders/2l/3kmvzs0s1sggnw_9sl0ls8080000gn/T/ipykernel_18431/359421643.py:18: DeprecatedWarning: prerecorded is deprecated as of 3.4.0 and will be removed in 4.0.0. deepgram.listen.prerecorded is deprecated. Use deepgram.listen.rest instead.\n",
      "  response = deepgram.listen.prerecorded.v(\"1\").transcribe_file(payload, options)\n"
     ]
    },
    {
     "name": "stdout",
     "output_type": "stream",
     "text": [
      "15 15\n",
      "remote_paths [{'Key': 'deliberation/20240904_1519_Pilot_MXAFSF/1725467492730-11a8e072-8013-4a15-bd4d-79b94b00629b-cam-audio-1725467493719', 'LastModified': datetime.datetime(2024, 9, 4, 16, 31, 34, tzinfo=tzutc()), 'ETag': '\"fede48937c15d7c9ff80f2366b0e02f3-1\"', 'Size': 2372973, 'StorageClass': 'STANDARD'}, {'Key': 'deliberation/20240904_1519_Pilot_MXAFSF/1725467492730-11a8e072-8013-4a15-bd4d-79b94b00629b-cam-video-1725467493722', 'LastModified': datetime.datetime(2024, 9, 4, 16, 31, 34, tzinfo=tzutc()), 'ETag': '\"78155a83cac380a52c00c6e6af31b90f-31\"', 'Size': 162216361, 'StorageClass': 'STANDARD'}, {'Key': 'deliberation/20240904_1519_Pilot_MXAFSF/1725467492730-6e3575d7-6b43-44c2-8c50-f2863eef15e9-cam-audio-1725467493720', 'LastModified': datetime.datetime(2024, 9, 4, 16, 31, 34, tzinfo=tzutc()), 'ETag': '\"06924bb764a343182c596c842468b938-1\"', 'Size': 2138878, 'StorageClass': 'STANDARD'}, {'Key': 'deliberation/20240904_1519_Pilot_MXAFSF/1725467492730-6e3575d7-6b43-44c2-8c50-f2863eef15e9-cam-video-1725467493718', 'LastModified': datetime.datetime(2024, 9, 4, 16, 31, 34, tzinfo=tzutc()), 'ETag': '\"b3ad0779c23e951e980ef87692577bc3-31\"', 'Size': 160237559, 'StorageClass': 'STANDARD'}]\n",
      "files ['deliberation/20240904_1519_Pilot_MXAFSF/1725467492730-6e3575d7-6b43-44c2-8c50-f2863eef15e9-cam-audio-1725467493720', 'deliberation/20240904_1519_Pilot_MXAFSF/1725467492730-6e3575d7-6b43-44c2-8c50-f2863eef15e9-cam-video-1725467493718']\n"
     ]
    },
    {
     "name": "stderr",
     "output_type": "stream",
     "text": [
      "/var/folders/2l/3kmvzs0s1sggnw_9sl0ls8080000gn/T/ipykernel_18431/2514948886.py:24: SettingWithCopyWarning: \n",
      "A value is trying to be set on a copy of a slice from a DataFrame.\n",
      "Try using .loc[row_indexer,col_indexer] = value instead\n",
      "\n",
      "See the caveats in the documentation: https://pandas.pydata.org/pandas-docs/stable/user_guide/indexing.html#returning-a-view-versus-a-copy\n",
      "  utterances['position'] = position\n",
      "/var/folders/2l/3kmvzs0s1sggnw_9sl0ls8080000gn/T/ipykernel_18431/2514948886.py:25: SettingWithCopyWarning: \n",
      "A value is trying to be set on a copy of a slice from a DataFrame.\n",
      "Try using .loc[row_indexer,col_indexer] = value instead\n",
      "\n",
      "See the caveats in the documentation: https://pandas.pydata.org/pandas-docs/stable/user_guide/indexing.html#returning-a-view-versus-a-copy\n",
      "  utterances['start'] += internal_start # add the start time of the recording\n",
      "/var/folders/2l/3kmvzs0s1sggnw_9sl0ls8080000gn/T/ipykernel_18431/2514948886.py:26: SettingWithCopyWarning: \n",
      "A value is trying to be set on a copy of a slice from a DataFrame.\n",
      "Try using .loc[row_indexer,col_indexer] = value instead\n",
      "\n",
      "See the caveats in the documentation: https://pandas.pydata.org/pandas-docs/stable/user_guide/indexing.html#returning-a-view-versus-a-copy\n",
      "  utterances['end'] += internal_start\n"
     ]
    },
    {
     "name": "stdout",
     "output_type": "stream",
     "text": [
      "file                     recordings/20240904_1519_Pilot_MXAFSF/17254674...\n",
      "basename                 1725467492730-6e3575d7-6b43-44c2-8c50-f2863eef...\n",
      "track_type                                                           audio\n",
      "internal_start                                                       0.957\n",
      "resolution                                                             NaN\n",
      "resolution_x                                                           NaN\n",
      "track_group                                                              0\n",
      "group_internal_start                                                 0.957\n",
      "group_internal_offset                                                  0.0\n",
      "Name: 0, dtype: object\n",
      "transcribing recordings/20240904_1519_Pilot_MXAFSF/1725467492730-6e3575d7-6b43-44c2-8c50-f2863eef15e9-cam-audio-1725467493720.webm\n"
     ]
    },
    {
     "name": "stderr",
     "output_type": "stream",
     "text": [
      "/var/folders/2l/3kmvzs0s1sggnw_9sl0ls8080000gn/T/ipykernel_18431/359421643.py:18: DeprecatedWarning: prerecorded is deprecated as of 3.4.0 and will be removed in 4.0.0. deepgram.listen.prerecorded is deprecated. Use deepgram.listen.rest instead.\n",
      "  response = deepgram.listen.prerecorded.v(\"1\").transcribe_file(payload, options)\n"
     ]
    },
    {
     "name": "stdout",
     "output_type": "stream",
     "text": [
      "16 16\n",
      "remote_paths [{'Key': 'deliberation/20240904_1519_Pilot_MXAFSF/1725467492730-11a8e072-8013-4a15-bd4d-79b94b00629b-cam-audio-1725467493719', 'LastModified': datetime.datetime(2024, 9, 4, 16, 31, 34, tzinfo=tzutc()), 'ETag': '\"fede48937c15d7c9ff80f2366b0e02f3-1\"', 'Size': 2372973, 'StorageClass': 'STANDARD'}, {'Key': 'deliberation/20240904_1519_Pilot_MXAFSF/1725467492730-11a8e072-8013-4a15-bd4d-79b94b00629b-cam-video-1725467493722', 'LastModified': datetime.datetime(2024, 9, 4, 16, 31, 34, tzinfo=tzutc()), 'ETag': '\"78155a83cac380a52c00c6e6af31b90f-31\"', 'Size': 162216361, 'StorageClass': 'STANDARD'}, {'Key': 'deliberation/20240904_1519_Pilot_MXAFSF/1725467492730-6e3575d7-6b43-44c2-8c50-f2863eef15e9-cam-audio-1725467493720', 'LastModified': datetime.datetime(2024, 9, 4, 16, 31, 34, tzinfo=tzutc()), 'ETag': '\"06924bb764a343182c596c842468b938-1\"', 'Size': 2138878, 'StorageClass': 'STANDARD'}, {'Key': 'deliberation/20240904_1519_Pilot_MXAFSF/1725467492730-6e3575d7-6b43-44c2-8c50-f2863eef15e9-cam-video-1725467493718', 'LastModified': datetime.datetime(2024, 9, 4, 16, 31, 34, tzinfo=tzutc()), 'ETag': '\"b3ad0779c23e951e980ef87692577bc3-31\"', 'Size': 160237559, 'StorageClass': 'STANDARD'}]\n",
      "files ['deliberation/20240904_1519_Pilot_MXAFSF/1725467492730-11a8e072-8013-4a15-bd4d-79b94b00629b-cam-audio-1725467493719', 'deliberation/20240904_1519_Pilot_MXAFSF/1725467492730-11a8e072-8013-4a15-bd4d-79b94b00629b-cam-video-1725467493722']\n"
     ]
    },
    {
     "name": "stderr",
     "output_type": "stream",
     "text": [
      "/var/folders/2l/3kmvzs0s1sggnw_9sl0ls8080000gn/T/ipykernel_18431/2514948886.py:24: SettingWithCopyWarning: \n",
      "A value is trying to be set on a copy of a slice from a DataFrame.\n",
      "Try using .loc[row_indexer,col_indexer] = value instead\n",
      "\n",
      "See the caveats in the documentation: https://pandas.pydata.org/pandas-docs/stable/user_guide/indexing.html#returning-a-view-versus-a-copy\n",
      "  utterances['position'] = position\n",
      "/var/folders/2l/3kmvzs0s1sggnw_9sl0ls8080000gn/T/ipykernel_18431/2514948886.py:25: SettingWithCopyWarning: \n",
      "A value is trying to be set on a copy of a slice from a DataFrame.\n",
      "Try using .loc[row_indexer,col_indexer] = value instead\n",
      "\n",
      "See the caveats in the documentation: https://pandas.pydata.org/pandas-docs/stable/user_guide/indexing.html#returning-a-view-versus-a-copy\n",
      "  utterances['start'] += internal_start # add the start time of the recording\n",
      "/var/folders/2l/3kmvzs0s1sggnw_9sl0ls8080000gn/T/ipykernel_18431/2514948886.py:26: SettingWithCopyWarning: \n",
      "A value is trying to be set on a copy of a slice from a DataFrame.\n",
      "Try using .loc[row_indexer,col_indexer] = value instead\n",
      "\n",
      "See the caveats in the documentation: https://pandas.pydata.org/pandas-docs/stable/user_guide/indexing.html#returning-a-view-versus-a-copy\n",
      "  utterances['end'] += internal_start\n"
     ]
    },
    {
     "name": "stdout",
     "output_type": "stream",
     "text": [
      "file                     recordings/20240904_1519_Pilot_MXAFSF/17254674...\n",
      "basename                 1725467492730-11a8e072-8013-4a15-bd4d-79b94b00...\n",
      "track_type                                                           audio\n",
      "internal_start                                                       0.955\n",
      "resolution                                                             NaN\n",
      "resolution_x                                                           NaN\n",
      "track_group                                                              0\n",
      "group_internal_start                                                 0.955\n",
      "group_internal_offset                                                  0.0\n",
      "Name: 0, dtype: object\n",
      "transcribing recordings/20240904_1519_Pilot_MXAFSF/1725467492730-11a8e072-8013-4a15-bd4d-79b94b00629b-cam-audio-1725467493719.webm\n"
     ]
    },
    {
     "name": "stderr",
     "output_type": "stream",
     "text": [
      "/var/folders/2l/3kmvzs0s1sggnw_9sl0ls8080000gn/T/ipykernel_18431/359421643.py:18: DeprecatedWarning: prerecorded is deprecated as of 3.4.0 and will be removed in 4.0.0. deepgram.listen.prerecorded is deprecated. Use deepgram.listen.rest instead.\n",
      "  response = deepgram.listen.prerecorded.v(\"1\").transcribe_file(payload, options)\n"
     ]
    },
    {
     "name": "stdout",
     "output_type": "stream",
     "text": [
      "17 17\n",
      "remote_paths [{'Key': 'deliberation/20240815_2018_miniPiZ4VQ1R/1723755676733-9dfd15cc-20be-4158-a847-290b4518db5a-cam-audio-1723755677706', 'LastModified': datetime.datetime(2024, 8, 15, 21, 1, 18, tzinfo=tzutc()), 'ETag': '\"60a7fee448f6325157e324fd329c8e06-1\"', 'Size': 3428608, 'StorageClass': 'STANDARD'}, {'Key': 'deliberation/20240815_2018_miniPiZ4VQ1R/1723755676733-9dfd15cc-20be-4158-a847-290b4518db5a-cam-video-1723755677708', 'LastModified': datetime.datetime(2024, 8, 15, 21, 1, 18, tzinfo=tzutc()), 'ETag': '\"a47aae3344b775361b4e93bf7ddd5ff7-15\"', 'Size': 75233460, 'StorageClass': 'STANDARD'}, {'Key': 'deliberation/20240815_2018_miniPiZ4VQ1R/1723755676733-9fd4b432-e039-453d-8380-5d6b369ed807-cam-audio-1723755677707', 'LastModified': datetime.datetime(2024, 8, 15, 21, 1, 18, tzinfo=tzutc()), 'ETag': '\"254b65a839c5ad3001c386e553424237-1\"', 'Size': 3050717, 'StorageClass': 'STANDARD'}, {'Key': 'deliberation/20240815_2018_miniPiZ4VQ1R/1723755676733-9fd4b432-e039-453d-8380-5d6b369ed807-cam-video-1723755677704', 'LastModified': datetime.datetime(2024, 8, 15, 21, 1, 18, tzinfo=tzutc()), 'ETag': '\"976ffce495204e7404f46fc8290109c0-38\"', 'Size': 194387617, 'StorageClass': 'STANDARD'}]\n",
      "files ['deliberation/20240815_2018_miniPiZ4VQ1R/1723755676733-9dfd15cc-20be-4158-a847-290b4518db5a-cam-audio-1723755677706', 'deliberation/20240815_2018_miniPiZ4VQ1R/1723755676733-9dfd15cc-20be-4158-a847-290b4518db5a-cam-video-1723755677708']\n"
     ]
    },
    {
     "name": "stderr",
     "output_type": "stream",
     "text": [
      "/var/folders/2l/3kmvzs0s1sggnw_9sl0ls8080000gn/T/ipykernel_18431/2514948886.py:24: SettingWithCopyWarning: \n",
      "A value is trying to be set on a copy of a slice from a DataFrame.\n",
      "Try using .loc[row_indexer,col_indexer] = value instead\n",
      "\n",
      "See the caveats in the documentation: https://pandas.pydata.org/pandas-docs/stable/user_guide/indexing.html#returning-a-view-versus-a-copy\n",
      "  utterances['position'] = position\n",
      "/var/folders/2l/3kmvzs0s1sggnw_9sl0ls8080000gn/T/ipykernel_18431/2514948886.py:25: SettingWithCopyWarning: \n",
      "A value is trying to be set on a copy of a slice from a DataFrame.\n",
      "Try using .loc[row_indexer,col_indexer] = value instead\n",
      "\n",
      "See the caveats in the documentation: https://pandas.pydata.org/pandas-docs/stable/user_guide/indexing.html#returning-a-view-versus-a-copy\n",
      "  utterances['start'] += internal_start # add the start time of the recording\n",
      "/var/folders/2l/3kmvzs0s1sggnw_9sl0ls8080000gn/T/ipykernel_18431/2514948886.py:26: SettingWithCopyWarning: \n",
      "A value is trying to be set on a copy of a slice from a DataFrame.\n",
      "Try using .loc[row_indexer,col_indexer] = value instead\n",
      "\n",
      "See the caveats in the documentation: https://pandas.pydata.org/pandas-docs/stable/user_guide/indexing.html#returning-a-view-versus-a-copy\n",
      "  utterances['end'] += internal_start\n"
     ]
    },
    {
     "name": "stdout",
     "output_type": "stream",
     "text": [
      "file                     recordings/20240815_2018_miniPiZ4VQ1R/17237556...\n",
      "basename                 1723755676733-9dfd15cc-20be-4158-a847-290b4518...\n",
      "track_type                                                           audio\n",
      "internal_start                                                       0.952\n",
      "resolution                                                             NaN\n",
      "resolution_x                                                           NaN\n",
      "track_group                                                              0\n",
      "group_internal_start                                                 0.952\n",
      "group_internal_offset                                                  0.0\n",
      "Name: 0, dtype: object\n",
      "transcribing recordings/20240815_2018_miniPiZ4VQ1R/1723755676733-9dfd15cc-20be-4158-a847-290b4518db5a-cam-audio-1723755677706.webm\n"
     ]
    },
    {
     "name": "stderr",
     "output_type": "stream",
     "text": [
      "/var/folders/2l/3kmvzs0s1sggnw_9sl0ls8080000gn/T/ipykernel_18431/359421643.py:18: DeprecatedWarning: prerecorded is deprecated as of 3.4.0 and will be removed in 4.0.0. deepgram.listen.prerecorded is deprecated. Use deepgram.listen.rest instead.\n",
      "  response = deepgram.listen.prerecorded.v(\"1\").transcribe_file(payload, options)\n"
     ]
    },
    {
     "name": "stdout",
     "output_type": "stream",
     "text": [
      "18 18\n",
      "remote_paths [{'Key': 'deliberation/20240815_2018_miniPiZ4VQ1R/1723755676733-9dfd15cc-20be-4158-a847-290b4518db5a-cam-audio-1723755677706', 'LastModified': datetime.datetime(2024, 8, 15, 21, 1, 18, tzinfo=tzutc()), 'ETag': '\"60a7fee448f6325157e324fd329c8e06-1\"', 'Size': 3428608, 'StorageClass': 'STANDARD'}, {'Key': 'deliberation/20240815_2018_miniPiZ4VQ1R/1723755676733-9dfd15cc-20be-4158-a847-290b4518db5a-cam-video-1723755677708', 'LastModified': datetime.datetime(2024, 8, 15, 21, 1, 18, tzinfo=tzutc()), 'ETag': '\"a47aae3344b775361b4e93bf7ddd5ff7-15\"', 'Size': 75233460, 'StorageClass': 'STANDARD'}, {'Key': 'deliberation/20240815_2018_miniPiZ4VQ1R/1723755676733-9fd4b432-e039-453d-8380-5d6b369ed807-cam-audio-1723755677707', 'LastModified': datetime.datetime(2024, 8, 15, 21, 1, 18, tzinfo=tzutc()), 'ETag': '\"254b65a839c5ad3001c386e553424237-1\"', 'Size': 3050717, 'StorageClass': 'STANDARD'}, {'Key': 'deliberation/20240815_2018_miniPiZ4VQ1R/1723755676733-9fd4b432-e039-453d-8380-5d6b369ed807-cam-video-1723755677704', 'LastModified': datetime.datetime(2024, 8, 15, 21, 1, 18, tzinfo=tzutc()), 'ETag': '\"976ffce495204e7404f46fc8290109c0-38\"', 'Size': 194387617, 'StorageClass': 'STANDARD'}]\n",
      "files ['deliberation/20240815_2018_miniPiZ4VQ1R/1723755676733-9fd4b432-e039-453d-8380-5d6b369ed807-cam-audio-1723755677707', 'deliberation/20240815_2018_miniPiZ4VQ1R/1723755676733-9fd4b432-e039-453d-8380-5d6b369ed807-cam-video-1723755677704']\n"
     ]
    },
    {
     "name": "stderr",
     "output_type": "stream",
     "text": [
      "/var/folders/2l/3kmvzs0s1sggnw_9sl0ls8080000gn/T/ipykernel_18431/2514948886.py:24: SettingWithCopyWarning: \n",
      "A value is trying to be set on a copy of a slice from a DataFrame.\n",
      "Try using .loc[row_indexer,col_indexer] = value instead\n",
      "\n",
      "See the caveats in the documentation: https://pandas.pydata.org/pandas-docs/stable/user_guide/indexing.html#returning-a-view-versus-a-copy\n",
      "  utterances['position'] = position\n",
      "/var/folders/2l/3kmvzs0s1sggnw_9sl0ls8080000gn/T/ipykernel_18431/2514948886.py:25: SettingWithCopyWarning: \n",
      "A value is trying to be set on a copy of a slice from a DataFrame.\n",
      "Try using .loc[row_indexer,col_indexer] = value instead\n",
      "\n",
      "See the caveats in the documentation: https://pandas.pydata.org/pandas-docs/stable/user_guide/indexing.html#returning-a-view-versus-a-copy\n",
      "  utterances['start'] += internal_start # add the start time of the recording\n",
      "/var/folders/2l/3kmvzs0s1sggnw_9sl0ls8080000gn/T/ipykernel_18431/2514948886.py:26: SettingWithCopyWarning: \n",
      "A value is trying to be set on a copy of a slice from a DataFrame.\n",
      "Try using .loc[row_indexer,col_indexer] = value instead\n",
      "\n",
      "See the caveats in the documentation: https://pandas.pydata.org/pandas-docs/stable/user_guide/indexing.html#returning-a-view-versus-a-copy\n",
      "  utterances['end'] += internal_start\n"
     ]
    },
    {
     "name": "stdout",
     "output_type": "stream",
     "text": [
      "file                     recordings/20240815_2018_miniPiZ4VQ1R/17237556...\n",
      "basename                 1723755676733-9fd4b432-e039-453d-8380-5d6b369e...\n",
      "track_type                                                           audio\n",
      "internal_start                                                        0.96\n",
      "resolution                                                             NaN\n",
      "resolution_x                                                           NaN\n",
      "track_group                                                              0\n",
      "group_internal_start                                                  0.96\n",
      "group_internal_offset                                                  0.0\n",
      "Name: 0, dtype: object\n",
      "transcribing recordings/20240815_2018_miniPiZ4VQ1R/1723755676733-9fd4b432-e039-453d-8380-5d6b369ed807-cam-audio-1723755677707.webm\n"
     ]
    },
    {
     "name": "stderr",
     "output_type": "stream",
     "text": [
      "/var/folders/2l/3kmvzs0s1sggnw_9sl0ls8080000gn/T/ipykernel_18431/359421643.py:18: DeprecatedWarning: prerecorded is deprecated as of 3.4.0 and will be removed in 4.0.0. deepgram.listen.prerecorded is deprecated. Use deepgram.listen.rest instead.\n",
      "  response = deepgram.listen.prerecorded.v(\"1\").transcribe_file(payload, options)\n",
      "/var/folders/2l/3kmvzs0s1sggnw_9sl0ls8080000gn/T/ipykernel_18431/2514948886.py:24: SettingWithCopyWarning: \n",
      "A value is trying to be set on a copy of a slice from a DataFrame.\n",
      "Try using .loc[row_indexer,col_indexer] = value instead\n",
      "\n",
      "See the caveats in the documentation: https://pandas.pydata.org/pandas-docs/stable/user_guide/indexing.html#returning-a-view-versus-a-copy\n",
      "  utterances['position'] = position\n",
      "/var/folders/2l/3kmvzs0s1sggnw_9sl0ls8080000gn/T/ipykernel_18431/2514948886.py:25: SettingWithCopyWarning: \n",
      "A value is trying to be set on a copy of a slice from a DataFrame.\n",
      "Try using .loc[row_indexer,col_indexer] = value instead\n",
      "\n",
      "See the caveats in the documentation: https://pandas.pydata.org/pandas-docs/stable/user_guide/indexing.html#returning-a-view-versus-a-copy\n",
      "  utterances['start'] += internal_start # add the start time of the recording\n",
      "/var/folders/2l/3kmvzs0s1sggnw_9sl0ls8080000gn/T/ipykernel_18431/2514948886.py:26: SettingWithCopyWarning: \n",
      "A value is trying to be set on a copy of a slice from a DataFrame.\n",
      "Try using .loc[row_indexer,col_indexer] = value instead\n",
      "\n",
      "See the caveats in the documentation: https://pandas.pydata.org/pandas-docs/stable/user_guide/indexing.html#returning-a-view-versus-a-copy\n",
      "  utterances['end'] += internal_start\n"
     ]
    },
    {
     "name": "stdout",
     "output_type": "stream",
     "text": [
      "19 19\n",
      "remote_paths [{'Key': 'deliberation/20240904_1519_Pilot_8YRK6A/1725467480299-16c2892f-2a60-4cc7-8eb5-ac14f83a333e-cam-audio-1725467481270', 'LastModified': datetime.datetime(2024, 9, 4, 16, 31, 22, tzinfo=tzutc()), 'ETag': '\"8e7869608ec7a9d75d82b19b9463d550-1\"', 'Size': 2227249, 'StorageClass': 'STANDARD'}, {'Key': 'deliberation/20240904_1519_Pilot_8YRK6A/1725467480299-16c2892f-2a60-4cc7-8eb5-ac14f83a333e-cam-video-1725467481271', 'LastModified': datetime.datetime(2024, 9, 4, 16, 31, 22, tzinfo=tzutc()), 'ETag': '\"e139e8fd7c7c231dcca83e5d76039f69-29\"', 'Size': 150607204, 'StorageClass': 'STANDARD'}, {'Key': 'deliberation/20240904_1519_Pilot_8YRK6A/1725467480299-2c8bfb44-f14a-4a27-8573-895fa346dcae-cam-audio-1725467481590', 'LastModified': datetime.datetime(2024, 9, 4, 16, 31, 22, tzinfo=tzutc()), 'ETag': '\"a194edc123e666be6d90e9c7e74a4099-1\"', 'Size': 2287007, 'StorageClass': 'STANDARD'}, {'Key': 'deliberation/20240904_1519_Pilot_8YRK6A/1725467480299-2c8bfb44-f14a-4a27-8573-895fa346dcae-cam-video-1725467481592', 'LastModified': datetime.datetime(2024, 9, 4, 16, 31, 22, tzinfo=tzutc()), 'ETag': '\"4336f48aeb07d5de966ab53159ae2858-29\"', 'Size': 147304298, 'StorageClass': 'STANDARD'}]\n",
      "files ['deliberation/20240904_1519_Pilot_8YRK6A/1725467480299-2c8bfb44-f14a-4a27-8573-895fa346dcae-cam-audio-1725467481590', 'deliberation/20240904_1519_Pilot_8YRK6A/1725467480299-2c8bfb44-f14a-4a27-8573-895fa346dcae-cam-video-1725467481592']\n",
      "file                     recordings/20240904_1519_Pilot_8YRK6A/17254674...\n",
      "basename                 1725467480299-2c8bfb44-f14a-4a27-8573-895fa346...\n",
      "track_type                                                           audio\n",
      "internal_start                                                       1.257\n",
      "resolution                                                             NaN\n",
      "resolution_x                                                           NaN\n",
      "track_group                                                              0\n",
      "group_internal_start                                                 1.257\n",
      "group_internal_offset                                                  0.0\n",
      "Name: 0, dtype: object\n",
      "transcribing recordings/20240904_1519_Pilot_8YRK6A/1725467480299-2c8bfb44-f14a-4a27-8573-895fa346dcae-cam-audio-1725467481590.webm\n"
     ]
    },
    {
     "name": "stderr",
     "output_type": "stream",
     "text": [
      "/var/folders/2l/3kmvzs0s1sggnw_9sl0ls8080000gn/T/ipykernel_18431/359421643.py:18: DeprecatedWarning: prerecorded is deprecated as of 3.4.0 and will be removed in 4.0.0. deepgram.listen.prerecorded is deprecated. Use deepgram.listen.rest instead.\n",
      "  response = deepgram.listen.prerecorded.v(\"1\").transcribe_file(payload, options)\n"
     ]
    },
    {
     "name": "stdout",
     "output_type": "stream",
     "text": [
      "20 20\n",
      "remote_paths [{'Key': 'deliberation/20240904_1519_Pilot_8YRK6A/1725467480299-16c2892f-2a60-4cc7-8eb5-ac14f83a333e-cam-audio-1725467481270', 'LastModified': datetime.datetime(2024, 9, 4, 16, 31, 22, tzinfo=tzutc()), 'ETag': '\"8e7869608ec7a9d75d82b19b9463d550-1\"', 'Size': 2227249, 'StorageClass': 'STANDARD'}, {'Key': 'deliberation/20240904_1519_Pilot_8YRK6A/1725467480299-16c2892f-2a60-4cc7-8eb5-ac14f83a333e-cam-video-1725467481271', 'LastModified': datetime.datetime(2024, 9, 4, 16, 31, 22, tzinfo=tzutc()), 'ETag': '\"e139e8fd7c7c231dcca83e5d76039f69-29\"', 'Size': 150607204, 'StorageClass': 'STANDARD'}, {'Key': 'deliberation/20240904_1519_Pilot_8YRK6A/1725467480299-2c8bfb44-f14a-4a27-8573-895fa346dcae-cam-audio-1725467481590', 'LastModified': datetime.datetime(2024, 9, 4, 16, 31, 22, tzinfo=tzutc()), 'ETag': '\"a194edc123e666be6d90e9c7e74a4099-1\"', 'Size': 2287007, 'StorageClass': 'STANDARD'}, {'Key': 'deliberation/20240904_1519_Pilot_8YRK6A/1725467480299-2c8bfb44-f14a-4a27-8573-895fa346dcae-cam-video-1725467481592', 'LastModified': datetime.datetime(2024, 9, 4, 16, 31, 22, tzinfo=tzutc()), 'ETag': '\"4336f48aeb07d5de966ab53159ae2858-29\"', 'Size': 147304298, 'StorageClass': 'STANDARD'}]\n",
      "files ['deliberation/20240904_1519_Pilot_8YRK6A/1725467480299-16c2892f-2a60-4cc7-8eb5-ac14f83a333e-cam-audio-1725467481270', 'deliberation/20240904_1519_Pilot_8YRK6A/1725467480299-16c2892f-2a60-4cc7-8eb5-ac14f83a333e-cam-video-1725467481271']\n"
     ]
    },
    {
     "name": "stderr",
     "output_type": "stream",
     "text": [
      "/var/folders/2l/3kmvzs0s1sggnw_9sl0ls8080000gn/T/ipykernel_18431/2514948886.py:24: SettingWithCopyWarning: \n",
      "A value is trying to be set on a copy of a slice from a DataFrame.\n",
      "Try using .loc[row_indexer,col_indexer] = value instead\n",
      "\n",
      "See the caveats in the documentation: https://pandas.pydata.org/pandas-docs/stable/user_guide/indexing.html#returning-a-view-versus-a-copy\n",
      "  utterances['position'] = position\n",
      "/var/folders/2l/3kmvzs0s1sggnw_9sl0ls8080000gn/T/ipykernel_18431/2514948886.py:25: SettingWithCopyWarning: \n",
      "A value is trying to be set on a copy of a slice from a DataFrame.\n",
      "Try using .loc[row_indexer,col_indexer] = value instead\n",
      "\n",
      "See the caveats in the documentation: https://pandas.pydata.org/pandas-docs/stable/user_guide/indexing.html#returning-a-view-versus-a-copy\n",
      "  utterances['start'] += internal_start # add the start time of the recording\n",
      "/var/folders/2l/3kmvzs0s1sggnw_9sl0ls8080000gn/T/ipykernel_18431/2514948886.py:26: SettingWithCopyWarning: \n",
      "A value is trying to be set on a copy of a slice from a DataFrame.\n",
      "Try using .loc[row_indexer,col_indexer] = value instead\n",
      "\n",
      "See the caveats in the documentation: https://pandas.pydata.org/pandas-docs/stable/user_guide/indexing.html#returning-a-view-versus-a-copy\n",
      "  utterances['end'] += internal_start\n"
     ]
    },
    {
     "name": "stdout",
     "output_type": "stream",
     "text": [
      "file                     recordings/20240904_1519_Pilot_8YRK6A/17254674...\n",
      "basename                 1725467480299-16c2892f-2a60-4cc7-8eb5-ac14f83a...\n",
      "track_type                                                           audio\n",
      "internal_start                                                       0.942\n",
      "resolution                                                             NaN\n",
      "resolution_x                                                           NaN\n",
      "track_group                                                              0\n",
      "group_internal_start                                                 0.942\n",
      "group_internal_offset                                                  0.0\n",
      "Name: 0, dtype: object\n",
      "transcribing recordings/20240904_1519_Pilot_8YRK6A/1725467480299-16c2892f-2a60-4cc7-8eb5-ac14f83a333e-cam-audio-1725467481270.webm\n"
     ]
    },
    {
     "name": "stderr",
     "output_type": "stream",
     "text": [
      "/var/folders/2l/3kmvzs0s1sggnw_9sl0ls8080000gn/T/ipykernel_18431/359421643.py:18: DeprecatedWarning: prerecorded is deprecated as of 3.4.0 and will be removed in 4.0.0. deepgram.listen.prerecorded is deprecated. Use deepgram.listen.rest instead.\n",
      "  response = deepgram.listen.prerecorded.v(\"1\").transcribe_file(payload, options)\n",
      "/var/folders/2l/3kmvzs0s1sggnw_9sl0ls8080000gn/T/ipykernel_18431/2514948886.py:24: SettingWithCopyWarning: \n",
      "A value is trying to be set on a copy of a slice from a DataFrame.\n",
      "Try using .loc[row_indexer,col_indexer] = value instead\n",
      "\n",
      "See the caveats in the documentation: https://pandas.pydata.org/pandas-docs/stable/user_guide/indexing.html#returning-a-view-versus-a-copy\n",
      "  utterances['position'] = position\n",
      "/var/folders/2l/3kmvzs0s1sggnw_9sl0ls8080000gn/T/ipykernel_18431/2514948886.py:25: SettingWithCopyWarning: \n",
      "A value is trying to be set on a copy of a slice from a DataFrame.\n",
      "Try using .loc[row_indexer,col_indexer] = value instead\n",
      "\n",
      "See the caveats in the documentation: https://pandas.pydata.org/pandas-docs/stable/user_guide/indexing.html#returning-a-view-versus-a-copy\n",
      "  utterances['start'] += internal_start # add the start time of the recording\n",
      "/var/folders/2l/3kmvzs0s1sggnw_9sl0ls8080000gn/T/ipykernel_18431/2514948886.py:26: SettingWithCopyWarning: \n",
      "A value is trying to be set on a copy of a slice from a DataFrame.\n",
      "Try using .loc[row_indexer,col_indexer] = value instead\n",
      "\n",
      "See the caveats in the documentation: https://pandas.pydata.org/pandas-docs/stable/user_guide/indexing.html#returning-a-view-versus-a-copy\n",
      "  utterances['end'] += internal_start\n"
     ]
    }
   ],
   "source": [
    "completed = []\n",
    "for i, participant in enumerate(data):\n",
    "    if participant['player'] in completed:\n",
    "        continue\n",
    "    print(i, participant['player'])\n",
    "\n",
    "    make_transcription_files(participant)\n",
    "    completed.append(participant['player'])\n"
   ]
  },
  {
   "cell_type": "code",
   "execution_count": 15,
   "metadata": {},
   "outputs": [
    {
     "name": "stdout",
     "output_type": "stream",
     "text": [
      "> \u001b[0;32m/Users/jamesphoughton/github/contact-theory-topic/env/lib/python3.12/site-packages/pandas/core/indexes/base.py\u001b[0m(3812)\u001b[0;36mget_loc\u001b[0;34m()\u001b[0m\n",
      "\u001b[0;32m   3810 \u001b[0;31m            \u001b[0;34m)\u001b[0m\u001b[0;34m:\u001b[0m\u001b[0;34m\u001b[0m\u001b[0;34m\u001b[0m\u001b[0m\n",
      "\u001b[0m\u001b[0;32m   3811 \u001b[0;31m                \u001b[0;32mraise\u001b[0m \u001b[0mInvalidIndexError\u001b[0m\u001b[0;34m(\u001b[0m\u001b[0mkey\u001b[0m\u001b[0;34m)\u001b[0m\u001b[0;34m\u001b[0m\u001b[0;34m\u001b[0m\u001b[0m\n",
      "\u001b[0m\u001b[0;32m-> 3812 \u001b[0;31m            \u001b[0;32mraise\u001b[0m \u001b[0mKeyError\u001b[0m\u001b[0;34m(\u001b[0m\u001b[0mkey\u001b[0m\u001b[0;34m)\u001b[0m \u001b[0;32mfrom\u001b[0m \u001b[0merr\u001b[0m\u001b[0;34m\u001b[0m\u001b[0;34m\u001b[0m\u001b[0m\n",
      "\u001b[0m\u001b[0;32m   3813 \u001b[0;31m        \u001b[0;32mexcept\u001b[0m \u001b[0mTypeError\u001b[0m\u001b[0;34m:\u001b[0m\u001b[0;34m\u001b[0m\u001b[0;34m\u001b[0m\u001b[0m\n",
      "\u001b[0m\u001b[0;32m   3814 \u001b[0;31m            \u001b[0;31m# If we have a listlike key, _check_indexing_error will raise\u001b[0m\u001b[0;34m\u001b[0m\u001b[0;34m\u001b[0m\u001b[0m\n",
      "\u001b[0m\n"
     ]
    }
   ],
   "source": [
    "%debug"
   ]
  },
  {
   "cell_type": "code",
   "execution_count": 26,
   "metadata": {},
   "outputs": [],
   "source": [
    "# Stitch together the individual transcription files\n",
    "\n",
    "# for each of the folders in the recordings directory\n",
    "# get all the files in the folder that end in -utterances.csv\n",
    "for folder in os.listdir(cwd + \"/recordings\"):\n",
    "    files = glob.glob(cwd + f\"/recordings/{folder}/*-audio-*-utterances.csv\")\n",
    "    \n",
    "    # load all the files into a dataframe\n",
    "    if len(files) == 0:\n",
    "        continue\n",
    "    utterances = pd.concat([pd.read_csv(file) for file in files])\n",
    "\n",
    "    # sort by start time\n",
    "    utterances = utterances.sort_values(\"start\")\n",
    "\n",
    "    # save the dataframe to a csv\n",
    "    utterances.to_csv(f\"{cwd}/recordings/{folder}/group_transcript.csv\", index=False)\n",
    "\n",
    "    # merge consecutive utterances by the same speaker (indicated by \"position\" column)\n",
    "    # reset the start and end times to the beginning and end of the merged utterance\n",
    "    # combine the transcripts in order\n",
    "    utterances['position'] = utterances['position'].astype(int)\n",
    "    utterances['position_shifted'] = utterances['position'].shift(1)\n",
    "    utterances['position_change'] = utterances['position'] != utterances['position_shifted']\n",
    "    utterances['group'] = utterances['position_change'].cumsum()\n",
    "    utterances['group_start'] = utterances.groupby('group')['start'].transform('first')\n",
    "    utterances['group_end'] = utterances.groupby('group')['end'].transform('last')\n",
    "    utterances['merged_transcript'] = utterances.groupby('group')['transcript'].transform(' '.join)\n",
    "    utterances = utterances.drop_duplicates('group')\n",
    "    utterances = utterances.drop(columns=['confidence', 'position_shifted', 'position_change', 'group', 'transcript', 'start', 'end'])\n",
    "    utterances = utterances.rename(columns={'group_start': 'start', 'group_end': 'end', 'merged_transcript': 'transcript'})\n",
    "    utterances[\"conversation_id\"] = folder\n",
    "\n",
    "    \n",
    "\n",
    "\n",
    "\n",
    "\n",
    "    # save the dataframe to a csv\n",
    "    utterances.to_csv(f\"{cwd}/recordings/{folder}/group_transcript_merged_consecutives.csv\", index=False)\n",
    "    "
   ]
  },
  {
   "cell_type": "code",
   "execution_count": null,
   "metadata": {},
   "outputs": [],
   "source": []
  }
 ],
 "metadata": {
  "kernelspec": {
   "display_name": "Python 3",
   "language": "python",
   "name": "python3"
  },
  "language_info": {
   "codemirror_mode": {
    "name": "ipython",
    "version": 3
   },
   "file_extension": ".py",
   "mimetype": "text/x-python",
   "name": "python",
   "nbconvert_exporter": "python",
   "pygments_lexer": "ipython3",
   "version": "3.12.5"
  }
 },
 "nbformat": 4,
 "nbformat_minor": 2
}
