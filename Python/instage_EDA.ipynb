{
 "cells": [
  {
   "cell_type": "code",
   "execution_count": 3,
   "metadata": {},
   "outputs": [
    {
     "name": "stdout",
     "output_type": "stream",
     "text": [
      "/Users/bb320/Library/CloudStorage/GoogleDrive-burint@bnmanalytics.com/My Drive/Imperial/01_Projects/TeamofRivals/Analysis/Con2vec-1\n",
      "/Users/bb320/Library/CloudStorage/GoogleDrive-burint@bnmanalytics.com/My Drive/Imperial/01_Projects/TeamofRivals/Analysis/Con2vec-1\n"
     ]
    }
   ],
   "source": [
    "import pandas as pd\n",
    "import numpy as np\n",
    "import os\n",
    "from sklearn.decomposition import PCA\n",
    "from sklearn.cluster import KMeans\n",
    "from sklearn.preprocessing import StandardScaler\n",
    "from sklearn.metrics import silhouette_score\n",
    "import matplotlib.pyplot as plt\n",
    "import seaborn as sns\n",
    "\n",
    "print(os.getcwd())\n",
    "# os.chdir('../')\n",
    "print(os.getcwd())"
   ]
  },
  {
   "cell_type": "code",
   "execution_count": null,
   "metadata": {},
   "outputs": [
    {
     "name": "stdout",
     "output_type": "stream",
     "text": [
      "['Pair_Speaker_turn', 'PairID', 'PersonID', 'Speaker', 'Speaker_original', 'Turn', 'Speaker_turn', 'Turn_Boundary', 'Turn Start', 'Turn End', 'PairID_text', 'PersonID_text', 'Speaker_text', 'Speaker_original_text', 'Turn_text', 'Word', 'Start Time', 'End Time', 'Backchannel', 'Overlap', 'Contested', 'Duration', 'Sentiment', 'word_count', 'PairID_vocal', 'PersonID_vocal', 'Turn Start_vocal', 'Turn End_vocal', 'Rms', 'Pitch', 'Pulse', 'ZCR', 'Spectral_Centroid', 'Spectral_Bandwidth', 'positive_bert', 'negative_bert', 'neutral_bert', 'info_exchange_zscore_chats', 'discrepancies_lexical_wordcount', 'hear_lexical_wordcount', 'home_lexical_wordcount', 'conjunction_lexical_wordcount', 'certainty_lexical_wordcount', 'inclusive_lexical_wordcount', 'bio_lexical_wordcount', 'achievement_lexical_wordcount', 'adverbs_lexical_wordcount', 'anxiety_lexical_wordcount', 'third_person_lexical_wordcount', 'negation_lexical_wordcount', 'swear_lexical_wordcount', 'death_lexical_wordcount', 'health_lexical_wordcount', 'see_lexical_wordcount', 'body_lexical_wordcount', 'family_lexical_wordcount', 'negative_affect_lexical_wordcount', 'quantifier_lexical_wordcount', 'positive_affect_lexical_wordcount', 'insight_lexical_wordcount', 'humans_lexical_wordcount', 'present_tense_lexical_wordcount', 'future_tense_lexical_wordcount', 'past_tense_lexical_wordcount', 'relative_lexical_wordcount', 'sexual_lexical_wordcount', 'inhibition_lexical_wordcount', 'sadness_lexical_wordcount', 'social_lexical_wordcount', 'indefinite_pronoun_lexical_wordcount', 'religion_lexical_wordcount', 'work_lexical_wordcount', 'money_lexical_wordcount', 'causation_lexical_wordcount', 'anger_lexical_wordcount', 'first_person_singular_lexical_wordcount', 'feel_lexical_wordcount', 'tentativeness_lexical_wordcount', 'exclusive_lexical_wordcount', 'verbs_lexical_wordcount', 'friends_lexical_wordcount', 'article_lexical_wordcount', 'argue_lexical_wordcount', 'auxiliary_verbs_lexical_wordcount', 'cognitive_mech_lexical_wordcount', 'preposition_lexical_wordcount', 'first_person_plural_lexical_wordcount', 'percept_lexical_wordcount', 'second_person_lexical_wordcount', 'positive_words_lexical_wordcount', 'first_person_lexical_wordcount', 'nltk_english_stopwords_lexical_wordcount', 'textblob_subjectivity', 'textblob_polarity', 'positivity_zscore_chats', 'positivity_zscore_conversation', 'please_politeness_convokit', 'please_start_politeness_convokit', 'hashedge_politeness_convokit', 'indirect_btw_politeness_convokit', 'hedges_politeness_convokit', 'factuality_politeness_convokit', 'deference_politeness_convokit', 'gratitude_politeness_convokit', 'apologizing_politeness_convokit', '1st_person_pl_politeness_convokit', '1st_person_politeness_convokit', '1st_person_start_politeness_convokit', '2nd_person_politeness_convokit', '2nd_person_start_politeness_convokit', 'indirect_greeting_politeness_convokit', 'direct_question_politeness_convokit', 'direct_start_politeness_convokit', 'haspositive_politeness_convokit', 'hasnegative_politeness_convokit', 'subjunctive_politeness_convokit', 'indicative_politeness_convokit', 'Acknowledgement_receptiveness_yeomans', 'Affirmation_receptiveness_yeomans', 'Agreement_receptiveness_yeomans', 'Apology_receptiveness_yeomans', 'Ask_Agency_receptiveness_yeomans', 'By_The_Way_receptiveness_yeomans', 'Can_You_receptiveness_yeomans', 'Conjunction_Start_receptiveness_yeomans', 'Could_You_receptiveness_yeomans', 'Disagreement_receptiveness_yeomans', 'Filler_Pause_receptiveness_yeomans', 'First_Person_Plural_receptiveness_yeomans', 'First_Person_Single_receptiveness_yeomans', 'For_Me_receptiveness_yeomans', 'For_You_receptiveness_yeomans', 'Formal_Title_receptiveness_yeomans', 'Give_Agency_receptiveness_yeomans', 'Goodbye_receptiveness_yeomans', 'Gratitude_receptiveness_yeomans', 'Hedges_receptiveness_yeomans', 'Hello_receptiveness_yeomans', 'Impersonal_Pronoun_receptiveness_yeomans', 'Informal_Title_receptiveness_yeomans', 'Let_Me_Know_receptiveness_yeomans', 'Negation_receptiveness_yeomans', 'Negative_Emotion_receptiveness_yeomans', 'Please_receptiveness_yeomans', 'Positive_Emotion_receptiveness_yeomans', 'Reasoning_receptiveness_yeomans', 'Reassurance_receptiveness_yeomans', 'Second_Person_receptiveness_yeomans', 'Subjectivity_receptiveness_yeomans', 'Swearing_receptiveness_yeomans', 'Truth_Intensifier_receptiveness_yeomans', 'Bare_Command_receptiveness_yeomans', 'YesNo_Questions_receptiveness_yeomans', 'WH_Questions_receptiveness_yeomans', 'Adverb_Limiter_receptiveness_yeomans']\n"
     ]
    }
   ],
   "source": [
    "# merged_df = pd.read_csv('./Output/super_May22/Merged_data.csv')\n",
    "# linfeat = pd.read_csv('./Output/super_May22/may_super_turn_level_bb.csv')\n",
    "# merged_df = pd.concat([merged_df, linfeat], axis = 1)\n",
    "# print(list(merged_df))\n"
   ]
  },
  {
   "cell_type": "code",
   "execution_count": null,
   "metadata": {},
   "outputs": [],
   "source": [
    "# Step 0: Subset Data to Relevant Variables\n",
    "def subset_columns(df, audio_df):\n",
    "    # Select columns containing specific keywords from the main dataset\n",
    "    relevant_columns = [\n",
    "        col for col in df.columns \n",
    "        if any(keyword in col for keyword in ['lexical_wordcount', 'convokit', 'receptiveness'])\n",
    "    ]\n",
    "    \n",
    "    # Rename columns to remove specific substrings in their names\n",
    "    rename_mapping = {\n",
    "        col: col.replace('_lexical_wordcount', '').replace('_politeness_convokit', '').replace('_receptiveness_yeomans', '')\n",
    "        for col in relevant_columns\n",
    "    }\n",
    "    df = df.rename(columns=rename_mapping)\n",
    "\n",
    "    # Include specific audio variables from the audio dataset\n",
    "    audio_variables = ['Rms', 'Pitch', 'Pulse', 'ZCR', 'Spectral_Centroid', 'Spectral_Bandwidth']\n",
    "    audio_variable_mapping = {\n",
    "        'Rms': 'Loudness_Energy',\n",
    "        'Pitch': 'Intonation_Patterns',\n",
    "        'Pulse': 'Rhythm_Strength',\n",
    "        'ZCR': 'Voiced_Unvoiced_Distinction',\n",
    "        'Spectral_Centroid': 'Spectral_Center',\n",
    "        'Spectral_Bandwidth': 'Spectral_Width'\n",
    "    }\n",
    "    \n",
    "    # Rename audio variables for better interpretability\n",
    "    audio_df = audio_df[audio_variables].rename(columns=audio_variable_mapping)\n",
    "\n",
    "    # Combine the two datasets\n",
    "    combined_df = pd.concat([df[list(rename_mapping.values())], audio_df], axis=1)\n",
    "    \n",
    "    return combined_df"
   ]
  },
  {
   "cell_type": "code",
   "execution_count": 7,
   "metadata": {},
   "outputs": [],
   "source": [
    "# Step 1: Preprocess Data\n",
    "def preprocess_data(df, variables_to_include):\n",
    "    scaler = StandardScaler()\n",
    "    numeric_data = df[variables_to_include]\n",
    "    scaled_data = scaler.fit_transform(numeric_data)\n",
    "    return scaled_data\n"
   ]
  },
  {
   "cell_type": "code",
   "execution_count": 8,
   "metadata": {},
   "outputs": [],
   "source": [
    "# Step 2: Perform PCA and Clustering on Entire Dataset\n",
    "def perform_pca_clustering(df, variables_to_include, n_clusters=5):\n",
    "    scaled_data = preprocess_data(df, variables_to_include)\n",
    "    \n",
    "    # PCA\n",
    "    pca = PCA()\n",
    "    pca_data = pca.fit_transform(scaled_data)\n",
    "    n_components = np.argmax(np.cumsum(pca.explained_variance_ratio_) >= 0.8) + 1\n",
    "    pca = PCA(n_components=n_components)\n",
    "    pca_data_reduced = pca.fit_transform(scaled_data)\n",
    "    \n",
    "    # Clustering\n",
    "    kmeans = KMeans(n_clusters=n_clusters, random_state=42)\n",
    "    kmeans.fit(pca.components_.T)\n",
    "    \n",
    "    # Assign clusters to variables\n",
    "    clusters = kmeans.labels_\n",
    "    clustered_variables = pd.DataFrame({\n",
    "        'Variable': variables_to_include,\n",
    "        'Cluster': clusters\n",
    "    })\n",
    "    \n",
    "    # Evaluate clustering\n",
    "    silhouette_avg = silhouette_score(pca.components_.T, clusters)\n",
    "    print(f\"Silhouette Score for entire dataset: {silhouette_avg:.2f}\")\n",
    "    \n",
    "    return clustered_variables, silhouette_avg, pca"
   ]
  },
  {
   "cell_type": "code",
   "execution_count": 9,
   "metadata": {},
   "outputs": [],
   "source": [
    "# Step 3: Rank Clusters by Variability Across StageLabels and Generate Intuitive Names\n",
    "def rank_clusters_by_stage_label(clustered_variables, df, stage_label_col):\n",
    "    cluster_summary = []\n",
    "\n",
    "    for cluster_id in clustered_variables['Cluster'].unique():\n",
    "        cluster_vars = clustered_variables[clustered_variables['Cluster'] == cluster_id]['Variable']\n",
    "\n",
    "        # Generate descriptive name for the cluster based on variable composition\n",
    "        cluster_name = \", \".join(cluster_vars.head(3))  # Use top 3 variables as representation\n",
    "        if len(cluster_vars) > 3:\n",
    "            cluster_name += \", ...\"  # Indicate more variables if applicable\n",
    "\n",
    "        # Calculate variability of each cluster across StageLabel groups\n",
    "        cluster_variability = cluster_vars.apply(\n",
    "            lambda var: df.groupby(stage_label_col)[var].var().mean()\n",
    "        ).mean()\n",
    "\n",
    "        cluster_summary.append({\n",
    "            'Cluster': cluster_id,\n",
    "            'ClusterName': cluster_name,\n",
    "            'MeanVariability': cluster_variability\n",
    "        })\n",
    "\n",
    "    # Convert to DataFrame and rank by MeanVariability\n",
    "    cluster_summary_df = pd.DataFrame(cluster_summary)\n",
    "    cluster_summary_df = cluster_summary_df.sort_values(by='MeanVariability', ascending=False)\n",
    "\n",
    "    # Create rankings for each StageLabel\n",
    "    stage_label_rankings = {}\n",
    "    for label, segment_df in df.groupby(stage_label_col):\n",
    "        stage_ranking = []\n",
    "        for _, row in cluster_summary_df.iterrows():\n",
    "            cluster_id = row['Cluster']\n",
    "            cluster_vars = clustered_variables[clustered_variables['Cluster'] == cluster_id]['Variable']\n",
    "            stage_variability = cluster_vars.apply(\n",
    "                lambda var: segment_df[var].var()\n",
    "            ).mean()\n",
    "            stage_ranking.append((row['ClusterName'], stage_variability))\n",
    "        stage_label_rankings[label] = sorted(stage_ranking, key=lambda x: x[1], reverse=True)\n",
    "\n",
    "    return cluster_summary_df, stage_label_rankings"
   ]
  },
  {
   "cell_type": "markdown",
   "metadata": {},
   "source": [
    "Main"
   ]
  },
  {
   "cell_type": "code",
   "execution_count": 26,
   "metadata": {},
   "outputs": [
    {
     "name": "stdout",
     "output_type": "stream",
     "text": [
      "      Loudness_Energy  Intonation_Patterns  Rhythm_Strength  \\\n",
      "0            0.047715           252.661747         0.857723   \n",
      "1            0.173928           892.135910         1.639412   \n",
      "2            0.072644           298.460373         1.338938   \n",
      "3            0.032812           460.263498         1.472092   \n",
      "4            0.043951           497.194370         1.085941   \n",
      "...               ...                  ...              ...   \n",
      "4769         0.045932          1169.090052         2.090178   \n",
      "4770         0.031944           625.098561         0.679354   \n",
      "4771         0.077407           734.287699         2.546044   \n",
      "4772         0.061625           540.509055         1.148260   \n",
      "4773         0.037241           963.820644         0.853649   \n",
      "\n",
      "      Voiced_Unvoiced_Distinction  Spectral_Center  Spectral_Width  \n",
      "0                        0.019842      1351.088601     1721.346359  \n",
      "1                        0.043669      1330.734780     1150.572495  \n",
      "2                        0.035137      2868.710268     3601.523083  \n",
      "3                        0.109885      3656.036106     3290.609379  \n",
      "4                        0.089776      4608.850777     4626.725948  \n",
      "...                           ...              ...             ...  \n",
      "4769                     0.144629      4334.001729     3641.992645  \n",
      "4770                     0.185576      5709.741073     4796.899865  \n",
      "4771                     0.182747      4841.572207     3022.833057  \n",
      "4772                     0.052686      2006.272283     2453.599789  \n",
      "4773                     0.051976      2438.614765     3145.719046  \n",
      "\n",
      "[4774 rows x 6 columns]\n",
      "['Loudness_Energy', 'Intonation_Patterns', 'Rhythm_Strength', 'Voiced_Unvoiced_Distinction', 'Spectral_Center', 'Spectral_Width']\n",
      "Silhouette Score for entire dataset: 0.30\n"
     ]
    },
    {
     "ename": "KeyError",
     "evalue": "'Stage'",
     "output_type": "error",
     "traceback": [
      "\u001b[0;31m---------------------------------------------------------------------------\u001b[0m",
      "\u001b[0;31mKeyError\u001b[0m                                  Traceback (most recent call last)",
      "Cell \u001b[0;32mIn[26], line 23\u001b[0m\n\u001b[1;32m     20\u001b[0m clustered_variables, silhouette_avg, pca \u001b[38;5;241m=\u001b[39m perform_pca_clustering(merged_df, variables_to_include, n_clusters\u001b[38;5;241m=\u001b[39m\u001b[38;5;241m5\u001b[39m)\n\u001b[1;32m     22\u001b[0m \u001b[38;5;66;03m# Rank clusters by variability across StageLabels\u001b[39;00m\n\u001b[0;32m---> 23\u001b[0m cluster_summary, stage_label_rankings \u001b[38;5;241m=\u001b[39m \u001b[43mrank_clusters_by_stage_label\u001b[49m\u001b[43m(\u001b[49m\u001b[43mclustered_variables\u001b[49m\u001b[43m,\u001b[49m\u001b[43m \u001b[49m\u001b[43mmerged_df\u001b[49m\u001b[43m,\u001b[49m\u001b[43m \u001b[49m\u001b[43mstage_label_col\u001b[49m\u001b[43m)\u001b[49m\n\u001b[1;32m     25\u001b[0m \u001b[38;5;66;03m# Output results\u001b[39;00m\n\u001b[1;32m     26\u001b[0m \u001b[38;5;28mprint\u001b[39m(\u001b[38;5;124m\"\u001b[39m\u001b[38;5;124mCluster Summary:\u001b[39m\u001b[38;5;124m\"\u001b[39m)\n",
      "Cell \u001b[0;32mIn[9], line 14\u001b[0m, in \u001b[0;36mrank_clusters_by_stage_label\u001b[0;34m(clustered_variables, df, stage_label_col)\u001b[0m\n\u001b[1;32m     11\u001b[0m         cluster_name \u001b[38;5;241m+\u001b[39m\u001b[38;5;241m=\u001b[39m \u001b[38;5;124m\"\u001b[39m\u001b[38;5;124m, ...\u001b[39m\u001b[38;5;124m\"\u001b[39m  \u001b[38;5;66;03m# Indicate more variables if applicable\u001b[39;00m\n\u001b[1;32m     13\u001b[0m     \u001b[38;5;66;03m# Calculate variability of each cluster across StageLabel groups\u001b[39;00m\n\u001b[0;32m---> 14\u001b[0m     cluster_variability \u001b[38;5;241m=\u001b[39m \u001b[43mcluster_vars\u001b[49m\u001b[38;5;241;43m.\u001b[39;49m\u001b[43mapply\u001b[49m\u001b[43m(\u001b[49m\n\u001b[1;32m     15\u001b[0m \u001b[43m        \u001b[49m\u001b[38;5;28;43;01mlambda\u001b[39;49;00m\u001b[43m \u001b[49m\u001b[43mvar\u001b[49m\u001b[43m:\u001b[49m\u001b[43m \u001b[49m\u001b[43mdf\u001b[49m\u001b[38;5;241;43m.\u001b[39;49m\u001b[43mgroupby\u001b[49m\u001b[43m(\u001b[49m\u001b[43mstage_label_col\u001b[49m\u001b[43m)\u001b[49m\u001b[43m[\u001b[49m\u001b[43mvar\u001b[49m\u001b[43m]\u001b[49m\u001b[38;5;241;43m.\u001b[39;49m\u001b[43mvar\u001b[49m\u001b[43m(\u001b[49m\u001b[43m)\u001b[49m\u001b[38;5;241;43m.\u001b[39;49m\u001b[43mmean\u001b[49m\u001b[43m(\u001b[49m\u001b[43m)\u001b[49m\n\u001b[1;32m     16\u001b[0m \u001b[43m    \u001b[49m\u001b[43m)\u001b[49m\u001b[38;5;241m.\u001b[39mmean()\n\u001b[1;32m     18\u001b[0m     cluster_summary\u001b[38;5;241m.\u001b[39mappend({\n\u001b[1;32m     19\u001b[0m         \u001b[38;5;124m'\u001b[39m\u001b[38;5;124mCluster\u001b[39m\u001b[38;5;124m'\u001b[39m: cluster_id,\n\u001b[1;32m     20\u001b[0m         \u001b[38;5;124m'\u001b[39m\u001b[38;5;124mClusterName\u001b[39m\u001b[38;5;124m'\u001b[39m: cluster_name,\n\u001b[1;32m     21\u001b[0m         \u001b[38;5;124m'\u001b[39m\u001b[38;5;124mMeanVariability\u001b[39m\u001b[38;5;124m'\u001b[39m: cluster_variability\n\u001b[1;32m     22\u001b[0m     })\n\u001b[1;32m     24\u001b[0m \u001b[38;5;66;03m# Convert to DataFrame and rank by MeanVariability\u001b[39;00m\n",
      "File \u001b[0;32m~/Library/CloudStorage/GoogleDrive-burint@bnmanalytics.com/My Drive/Imperial/01_Projects/TeamofRivals/Analysis/Con2vec-1/.venv/lib/python3.10/site-packages/pandas/core/series.py:4924\u001b[0m, in \u001b[0;36mSeries.apply\u001b[0;34m(self, func, convert_dtype, args, by_row, **kwargs)\u001b[0m\n\u001b[1;32m   4789\u001b[0m \u001b[38;5;28;01mdef\u001b[39;00m \u001b[38;5;21mapply\u001b[39m(\n\u001b[1;32m   4790\u001b[0m     \u001b[38;5;28mself\u001b[39m,\n\u001b[1;32m   4791\u001b[0m     func: AggFuncType,\n\u001b[0;32m   (...)\u001b[0m\n\u001b[1;32m   4796\u001b[0m     \u001b[38;5;241m*\u001b[39m\u001b[38;5;241m*\u001b[39mkwargs,\n\u001b[1;32m   4797\u001b[0m ) \u001b[38;5;241m-\u001b[39m\u001b[38;5;241m>\u001b[39m DataFrame \u001b[38;5;241m|\u001b[39m Series:\n\u001b[1;32m   4798\u001b[0m \u001b[38;5;250m    \u001b[39m\u001b[38;5;124;03m\"\"\"\u001b[39;00m\n\u001b[1;32m   4799\u001b[0m \u001b[38;5;124;03m    Invoke function on values of Series.\u001b[39;00m\n\u001b[1;32m   4800\u001b[0m \n\u001b[0;32m   (...)\u001b[0m\n\u001b[1;32m   4915\u001b[0m \u001b[38;5;124;03m    dtype: float64\u001b[39;00m\n\u001b[1;32m   4916\u001b[0m \u001b[38;5;124;03m    \"\"\"\u001b[39;00m\n\u001b[1;32m   4917\u001b[0m     \u001b[38;5;28;01mreturn\u001b[39;00m \u001b[43mSeriesApply\u001b[49m\u001b[43m(\u001b[49m\n\u001b[1;32m   4918\u001b[0m \u001b[43m        \u001b[49m\u001b[38;5;28;43mself\u001b[39;49m\u001b[43m,\u001b[49m\n\u001b[1;32m   4919\u001b[0m \u001b[43m        \u001b[49m\u001b[43mfunc\u001b[49m\u001b[43m,\u001b[49m\n\u001b[1;32m   4920\u001b[0m \u001b[43m        \u001b[49m\u001b[43mconvert_dtype\u001b[49m\u001b[38;5;241;43m=\u001b[39;49m\u001b[43mconvert_dtype\u001b[49m\u001b[43m,\u001b[49m\n\u001b[1;32m   4921\u001b[0m \u001b[43m        \u001b[49m\u001b[43mby_row\u001b[49m\u001b[38;5;241;43m=\u001b[39;49m\u001b[43mby_row\u001b[49m\u001b[43m,\u001b[49m\n\u001b[1;32m   4922\u001b[0m \u001b[43m        \u001b[49m\u001b[43margs\u001b[49m\u001b[38;5;241;43m=\u001b[39;49m\u001b[43margs\u001b[49m\u001b[43m,\u001b[49m\n\u001b[1;32m   4923\u001b[0m \u001b[43m        \u001b[49m\u001b[43mkwargs\u001b[49m\u001b[38;5;241;43m=\u001b[39;49m\u001b[43mkwargs\u001b[49m\u001b[43m,\u001b[49m\n\u001b[0;32m-> 4924\u001b[0m \u001b[43m    \u001b[49m\u001b[43m)\u001b[49m\u001b[38;5;241;43m.\u001b[39;49m\u001b[43mapply\u001b[49m\u001b[43m(\u001b[49m\u001b[43m)\u001b[49m\n",
      "File \u001b[0;32m~/Library/CloudStorage/GoogleDrive-burint@bnmanalytics.com/My Drive/Imperial/01_Projects/TeamofRivals/Analysis/Con2vec-1/.venv/lib/python3.10/site-packages/pandas/core/apply.py:1427\u001b[0m, in \u001b[0;36mSeriesApply.apply\u001b[0;34m(self)\u001b[0m\n\u001b[1;32m   1424\u001b[0m     \u001b[38;5;28;01mreturn\u001b[39;00m \u001b[38;5;28mself\u001b[39m\u001b[38;5;241m.\u001b[39mapply_compat()\n\u001b[1;32m   1426\u001b[0m \u001b[38;5;66;03m# self.func is Callable\u001b[39;00m\n\u001b[0;32m-> 1427\u001b[0m \u001b[38;5;28;01mreturn\u001b[39;00m \u001b[38;5;28;43mself\u001b[39;49m\u001b[38;5;241;43m.\u001b[39;49m\u001b[43mapply_standard\u001b[49m\u001b[43m(\u001b[49m\u001b[43m)\u001b[49m\n",
      "File \u001b[0;32m~/Library/CloudStorage/GoogleDrive-burint@bnmanalytics.com/My Drive/Imperial/01_Projects/TeamofRivals/Analysis/Con2vec-1/.venv/lib/python3.10/site-packages/pandas/core/apply.py:1507\u001b[0m, in \u001b[0;36mSeriesApply.apply_standard\u001b[0;34m(self)\u001b[0m\n\u001b[1;32m   1501\u001b[0m \u001b[38;5;66;03m# row-wise access\u001b[39;00m\n\u001b[1;32m   1502\u001b[0m \u001b[38;5;66;03m# apply doesn't have a `na_action` keyword and for backward compat reasons\u001b[39;00m\n\u001b[1;32m   1503\u001b[0m \u001b[38;5;66;03m# we need to give `na_action=\"ignore\"` for categorical data.\u001b[39;00m\n\u001b[1;32m   1504\u001b[0m \u001b[38;5;66;03m# TODO: remove the `na_action=\"ignore\"` when that default has been changed in\u001b[39;00m\n\u001b[1;32m   1505\u001b[0m \u001b[38;5;66;03m#  Categorical (GH51645).\u001b[39;00m\n\u001b[1;32m   1506\u001b[0m action \u001b[38;5;241m=\u001b[39m \u001b[38;5;124m\"\u001b[39m\u001b[38;5;124mignore\u001b[39m\u001b[38;5;124m\"\u001b[39m \u001b[38;5;28;01mif\u001b[39;00m \u001b[38;5;28misinstance\u001b[39m(obj\u001b[38;5;241m.\u001b[39mdtype, CategoricalDtype) \u001b[38;5;28;01melse\u001b[39;00m \u001b[38;5;28;01mNone\u001b[39;00m\n\u001b[0;32m-> 1507\u001b[0m mapped \u001b[38;5;241m=\u001b[39m \u001b[43mobj\u001b[49m\u001b[38;5;241;43m.\u001b[39;49m\u001b[43m_map_values\u001b[49m\u001b[43m(\u001b[49m\n\u001b[1;32m   1508\u001b[0m \u001b[43m    \u001b[49m\u001b[43mmapper\u001b[49m\u001b[38;5;241;43m=\u001b[39;49m\u001b[43mcurried\u001b[49m\u001b[43m,\u001b[49m\u001b[43m \u001b[49m\u001b[43mna_action\u001b[49m\u001b[38;5;241;43m=\u001b[39;49m\u001b[43maction\u001b[49m\u001b[43m,\u001b[49m\u001b[43m \u001b[49m\u001b[43mconvert\u001b[49m\u001b[38;5;241;43m=\u001b[39;49m\u001b[38;5;28;43mself\u001b[39;49m\u001b[38;5;241;43m.\u001b[39;49m\u001b[43mconvert_dtype\u001b[49m\n\u001b[1;32m   1509\u001b[0m \u001b[43m\u001b[49m\u001b[43m)\u001b[49m\n\u001b[1;32m   1511\u001b[0m \u001b[38;5;28;01mif\u001b[39;00m \u001b[38;5;28mlen\u001b[39m(mapped) \u001b[38;5;129;01mand\u001b[39;00m \u001b[38;5;28misinstance\u001b[39m(mapped[\u001b[38;5;241m0\u001b[39m], ABCSeries):\n\u001b[1;32m   1512\u001b[0m     \u001b[38;5;66;03m# GH#43986 Need to do list(mapped) in order to get treated as nested\u001b[39;00m\n\u001b[1;32m   1513\u001b[0m     \u001b[38;5;66;03m#  See also GH#25959 regarding EA support\u001b[39;00m\n\u001b[1;32m   1514\u001b[0m     \u001b[38;5;28;01mreturn\u001b[39;00m obj\u001b[38;5;241m.\u001b[39m_constructor_expanddim(\u001b[38;5;28mlist\u001b[39m(mapped), index\u001b[38;5;241m=\u001b[39mobj\u001b[38;5;241m.\u001b[39mindex)\n",
      "File \u001b[0;32m~/Library/CloudStorage/GoogleDrive-burint@bnmanalytics.com/My Drive/Imperial/01_Projects/TeamofRivals/Analysis/Con2vec-1/.venv/lib/python3.10/site-packages/pandas/core/base.py:921\u001b[0m, in \u001b[0;36mIndexOpsMixin._map_values\u001b[0;34m(self, mapper, na_action, convert)\u001b[0m\n\u001b[1;32m    918\u001b[0m \u001b[38;5;28;01mif\u001b[39;00m \u001b[38;5;28misinstance\u001b[39m(arr, ExtensionArray):\n\u001b[1;32m    919\u001b[0m     \u001b[38;5;28;01mreturn\u001b[39;00m arr\u001b[38;5;241m.\u001b[39mmap(mapper, na_action\u001b[38;5;241m=\u001b[39mna_action)\n\u001b[0;32m--> 921\u001b[0m \u001b[38;5;28;01mreturn\u001b[39;00m \u001b[43malgorithms\u001b[49m\u001b[38;5;241;43m.\u001b[39;49m\u001b[43mmap_array\u001b[49m\u001b[43m(\u001b[49m\u001b[43marr\u001b[49m\u001b[43m,\u001b[49m\u001b[43m \u001b[49m\u001b[43mmapper\u001b[49m\u001b[43m,\u001b[49m\u001b[43m \u001b[49m\u001b[43mna_action\u001b[49m\u001b[38;5;241;43m=\u001b[39;49m\u001b[43mna_action\u001b[49m\u001b[43m,\u001b[49m\u001b[43m \u001b[49m\u001b[43mconvert\u001b[49m\u001b[38;5;241;43m=\u001b[39;49m\u001b[43mconvert\u001b[49m\u001b[43m)\u001b[49m\n",
      "File \u001b[0;32m~/Library/CloudStorage/GoogleDrive-burint@bnmanalytics.com/My Drive/Imperial/01_Projects/TeamofRivals/Analysis/Con2vec-1/.venv/lib/python3.10/site-packages/pandas/core/algorithms.py:1743\u001b[0m, in \u001b[0;36mmap_array\u001b[0;34m(arr, mapper, na_action, convert)\u001b[0m\n\u001b[1;32m   1741\u001b[0m values \u001b[38;5;241m=\u001b[39m arr\u001b[38;5;241m.\u001b[39mastype(\u001b[38;5;28mobject\u001b[39m, copy\u001b[38;5;241m=\u001b[39m\u001b[38;5;28;01mFalse\u001b[39;00m)\n\u001b[1;32m   1742\u001b[0m \u001b[38;5;28;01mif\u001b[39;00m na_action \u001b[38;5;129;01mis\u001b[39;00m \u001b[38;5;28;01mNone\u001b[39;00m:\n\u001b[0;32m-> 1743\u001b[0m     \u001b[38;5;28;01mreturn\u001b[39;00m \u001b[43mlib\u001b[49m\u001b[38;5;241;43m.\u001b[39;49m\u001b[43mmap_infer\u001b[49m\u001b[43m(\u001b[49m\u001b[43mvalues\u001b[49m\u001b[43m,\u001b[49m\u001b[43m \u001b[49m\u001b[43mmapper\u001b[49m\u001b[43m,\u001b[49m\u001b[43m \u001b[49m\u001b[43mconvert\u001b[49m\u001b[38;5;241;43m=\u001b[39;49m\u001b[43mconvert\u001b[49m\u001b[43m)\u001b[49m\n\u001b[1;32m   1744\u001b[0m \u001b[38;5;28;01melse\u001b[39;00m:\n\u001b[1;32m   1745\u001b[0m     \u001b[38;5;28;01mreturn\u001b[39;00m lib\u001b[38;5;241m.\u001b[39mmap_infer_mask(\n\u001b[1;32m   1746\u001b[0m         values, mapper, mask\u001b[38;5;241m=\u001b[39misna(values)\u001b[38;5;241m.\u001b[39mview(np\u001b[38;5;241m.\u001b[39muint8), convert\u001b[38;5;241m=\u001b[39mconvert\n\u001b[1;32m   1747\u001b[0m     )\n",
      "File \u001b[0;32mlib.pyx:2972\u001b[0m, in \u001b[0;36mpandas._libs.lib.map_infer\u001b[0;34m()\u001b[0m\n",
      "Cell \u001b[0;32mIn[9], line 15\u001b[0m, in \u001b[0;36mrank_clusters_by_stage_label.<locals>.<lambda>\u001b[0;34m(var)\u001b[0m\n\u001b[1;32m     11\u001b[0m         cluster_name \u001b[38;5;241m+\u001b[39m\u001b[38;5;241m=\u001b[39m \u001b[38;5;124m\"\u001b[39m\u001b[38;5;124m, ...\u001b[39m\u001b[38;5;124m\"\u001b[39m  \u001b[38;5;66;03m# Indicate more variables if applicable\u001b[39;00m\n\u001b[1;32m     13\u001b[0m     \u001b[38;5;66;03m# Calculate variability of each cluster across StageLabel groups\u001b[39;00m\n\u001b[1;32m     14\u001b[0m     cluster_variability \u001b[38;5;241m=\u001b[39m cluster_vars\u001b[38;5;241m.\u001b[39mapply(\n\u001b[0;32m---> 15\u001b[0m         \u001b[38;5;28;01mlambda\u001b[39;00m var: \u001b[43mdf\u001b[49m\u001b[38;5;241;43m.\u001b[39;49m\u001b[43mgroupby\u001b[49m\u001b[43m(\u001b[49m\u001b[43mstage_label_col\u001b[49m\u001b[43m)\u001b[49m[var]\u001b[38;5;241m.\u001b[39mvar()\u001b[38;5;241m.\u001b[39mmean()\n\u001b[1;32m     16\u001b[0m     )\u001b[38;5;241m.\u001b[39mmean()\n\u001b[1;32m     18\u001b[0m     cluster_summary\u001b[38;5;241m.\u001b[39mappend({\n\u001b[1;32m     19\u001b[0m         \u001b[38;5;124m'\u001b[39m\u001b[38;5;124mCluster\u001b[39m\u001b[38;5;124m'\u001b[39m: cluster_id,\n\u001b[1;32m     20\u001b[0m         \u001b[38;5;124m'\u001b[39m\u001b[38;5;124mClusterName\u001b[39m\u001b[38;5;124m'\u001b[39m: cluster_name,\n\u001b[1;32m     21\u001b[0m         \u001b[38;5;124m'\u001b[39m\u001b[38;5;124mMeanVariability\u001b[39m\u001b[38;5;124m'\u001b[39m: cluster_variability\n\u001b[1;32m     22\u001b[0m     })\n\u001b[1;32m     24\u001b[0m \u001b[38;5;66;03m# Convert to DataFrame and rank by MeanVariability\u001b[39;00m\n",
      "File \u001b[0;32m~/Library/CloudStorage/GoogleDrive-burint@bnmanalytics.com/My Drive/Imperial/01_Projects/TeamofRivals/Analysis/Con2vec-1/.venv/lib/python3.10/site-packages/pandas/core/frame.py:9183\u001b[0m, in \u001b[0;36mDataFrame.groupby\u001b[0;34m(self, by, axis, level, as_index, sort, group_keys, observed, dropna)\u001b[0m\n\u001b[1;32m   9180\u001b[0m \u001b[38;5;28;01mif\u001b[39;00m level \u001b[38;5;129;01mis\u001b[39;00m \u001b[38;5;28;01mNone\u001b[39;00m \u001b[38;5;129;01mand\u001b[39;00m by \u001b[38;5;129;01mis\u001b[39;00m \u001b[38;5;28;01mNone\u001b[39;00m:\n\u001b[1;32m   9181\u001b[0m     \u001b[38;5;28;01mraise\u001b[39;00m \u001b[38;5;167;01mTypeError\u001b[39;00m(\u001b[38;5;124m\"\u001b[39m\u001b[38;5;124mYou have to supply one of \u001b[39m\u001b[38;5;124m'\u001b[39m\u001b[38;5;124mby\u001b[39m\u001b[38;5;124m'\u001b[39m\u001b[38;5;124m and \u001b[39m\u001b[38;5;124m'\u001b[39m\u001b[38;5;124mlevel\u001b[39m\u001b[38;5;124m'\u001b[39m\u001b[38;5;124m\"\u001b[39m)\n\u001b[0;32m-> 9183\u001b[0m \u001b[38;5;28;01mreturn\u001b[39;00m \u001b[43mDataFrameGroupBy\u001b[49m\u001b[43m(\u001b[49m\n\u001b[1;32m   9184\u001b[0m \u001b[43m    \u001b[49m\u001b[43mobj\u001b[49m\u001b[38;5;241;43m=\u001b[39;49m\u001b[38;5;28;43mself\u001b[39;49m\u001b[43m,\u001b[49m\n\u001b[1;32m   9185\u001b[0m \u001b[43m    \u001b[49m\u001b[43mkeys\u001b[49m\u001b[38;5;241;43m=\u001b[39;49m\u001b[43mby\u001b[49m\u001b[43m,\u001b[49m\n\u001b[1;32m   9186\u001b[0m \u001b[43m    \u001b[49m\u001b[43maxis\u001b[49m\u001b[38;5;241;43m=\u001b[39;49m\u001b[43maxis\u001b[49m\u001b[43m,\u001b[49m\n\u001b[1;32m   9187\u001b[0m \u001b[43m    \u001b[49m\u001b[43mlevel\u001b[49m\u001b[38;5;241;43m=\u001b[39;49m\u001b[43mlevel\u001b[49m\u001b[43m,\u001b[49m\n\u001b[1;32m   9188\u001b[0m \u001b[43m    \u001b[49m\u001b[43mas_index\u001b[49m\u001b[38;5;241;43m=\u001b[39;49m\u001b[43mas_index\u001b[49m\u001b[43m,\u001b[49m\n\u001b[1;32m   9189\u001b[0m \u001b[43m    \u001b[49m\u001b[43msort\u001b[49m\u001b[38;5;241;43m=\u001b[39;49m\u001b[43msort\u001b[49m\u001b[43m,\u001b[49m\n\u001b[1;32m   9190\u001b[0m \u001b[43m    \u001b[49m\u001b[43mgroup_keys\u001b[49m\u001b[38;5;241;43m=\u001b[39;49m\u001b[43mgroup_keys\u001b[49m\u001b[43m,\u001b[49m\n\u001b[1;32m   9191\u001b[0m \u001b[43m    \u001b[49m\u001b[43mobserved\u001b[49m\u001b[38;5;241;43m=\u001b[39;49m\u001b[43mobserved\u001b[49m\u001b[43m,\u001b[49m\n\u001b[1;32m   9192\u001b[0m \u001b[43m    \u001b[49m\u001b[43mdropna\u001b[49m\u001b[38;5;241;43m=\u001b[39;49m\u001b[43mdropna\u001b[49m\u001b[43m,\u001b[49m\n\u001b[1;32m   9193\u001b[0m \u001b[43m\u001b[49m\u001b[43m)\u001b[49m\n",
      "File \u001b[0;32m~/Library/CloudStorage/GoogleDrive-burint@bnmanalytics.com/My Drive/Imperial/01_Projects/TeamofRivals/Analysis/Con2vec-1/.venv/lib/python3.10/site-packages/pandas/core/groupby/groupby.py:1329\u001b[0m, in \u001b[0;36mGroupBy.__init__\u001b[0;34m(self, obj, keys, axis, level, grouper, exclusions, selection, as_index, sort, group_keys, observed, dropna)\u001b[0m\n\u001b[1;32m   1326\u001b[0m \u001b[38;5;28mself\u001b[39m\u001b[38;5;241m.\u001b[39mdropna \u001b[38;5;241m=\u001b[39m dropna\n\u001b[1;32m   1328\u001b[0m \u001b[38;5;28;01mif\u001b[39;00m grouper \u001b[38;5;129;01mis\u001b[39;00m \u001b[38;5;28;01mNone\u001b[39;00m:\n\u001b[0;32m-> 1329\u001b[0m     grouper, exclusions, obj \u001b[38;5;241m=\u001b[39m \u001b[43mget_grouper\u001b[49m\u001b[43m(\u001b[49m\n\u001b[1;32m   1330\u001b[0m \u001b[43m        \u001b[49m\u001b[43mobj\u001b[49m\u001b[43m,\u001b[49m\n\u001b[1;32m   1331\u001b[0m \u001b[43m        \u001b[49m\u001b[43mkeys\u001b[49m\u001b[43m,\u001b[49m\n\u001b[1;32m   1332\u001b[0m \u001b[43m        \u001b[49m\u001b[43maxis\u001b[49m\u001b[38;5;241;43m=\u001b[39;49m\u001b[43maxis\u001b[49m\u001b[43m,\u001b[49m\n\u001b[1;32m   1333\u001b[0m \u001b[43m        \u001b[49m\u001b[43mlevel\u001b[49m\u001b[38;5;241;43m=\u001b[39;49m\u001b[43mlevel\u001b[49m\u001b[43m,\u001b[49m\n\u001b[1;32m   1334\u001b[0m \u001b[43m        \u001b[49m\u001b[43msort\u001b[49m\u001b[38;5;241;43m=\u001b[39;49m\u001b[43msort\u001b[49m\u001b[43m,\u001b[49m\n\u001b[1;32m   1335\u001b[0m \u001b[43m        \u001b[49m\u001b[43mobserved\u001b[49m\u001b[38;5;241;43m=\u001b[39;49m\u001b[38;5;28;43;01mFalse\u001b[39;49;00m\u001b[43m \u001b[49m\u001b[38;5;28;43;01mif\u001b[39;49;00m\u001b[43m \u001b[49m\u001b[43mobserved\u001b[49m\u001b[43m \u001b[49m\u001b[38;5;129;43;01mis\u001b[39;49;00m\u001b[43m \u001b[49m\u001b[43mlib\u001b[49m\u001b[38;5;241;43m.\u001b[39;49m\u001b[43mno_default\u001b[49m\u001b[43m \u001b[49m\u001b[38;5;28;43;01melse\u001b[39;49;00m\u001b[43m \u001b[49m\u001b[43mobserved\u001b[49m\u001b[43m,\u001b[49m\n\u001b[1;32m   1336\u001b[0m \u001b[43m        \u001b[49m\u001b[43mdropna\u001b[49m\u001b[38;5;241;43m=\u001b[39;49m\u001b[38;5;28;43mself\u001b[39;49m\u001b[38;5;241;43m.\u001b[39;49m\u001b[43mdropna\u001b[49m\u001b[43m,\u001b[49m\n\u001b[1;32m   1337\u001b[0m \u001b[43m    \u001b[49m\u001b[43m)\u001b[49m\n\u001b[1;32m   1339\u001b[0m \u001b[38;5;28;01mif\u001b[39;00m observed \u001b[38;5;129;01mis\u001b[39;00m lib\u001b[38;5;241m.\u001b[39mno_default:\n\u001b[1;32m   1340\u001b[0m     \u001b[38;5;28;01mif\u001b[39;00m \u001b[38;5;28many\u001b[39m(ping\u001b[38;5;241m.\u001b[39m_passed_categorical \u001b[38;5;28;01mfor\u001b[39;00m ping \u001b[38;5;129;01min\u001b[39;00m grouper\u001b[38;5;241m.\u001b[39mgroupings):\n",
      "File \u001b[0;32m~/Library/CloudStorage/GoogleDrive-burint@bnmanalytics.com/My Drive/Imperial/01_Projects/TeamofRivals/Analysis/Con2vec-1/.venv/lib/python3.10/site-packages/pandas/core/groupby/grouper.py:1043\u001b[0m, in \u001b[0;36mget_grouper\u001b[0;34m(obj, key, axis, level, sort, observed, validate, dropna)\u001b[0m\n\u001b[1;32m   1041\u001b[0m         in_axis, level, gpr \u001b[38;5;241m=\u001b[39m \u001b[38;5;28;01mFalse\u001b[39;00m, gpr, \u001b[38;5;28;01mNone\u001b[39;00m\n\u001b[1;32m   1042\u001b[0m     \u001b[38;5;28;01melse\u001b[39;00m:\n\u001b[0;32m-> 1043\u001b[0m         \u001b[38;5;28;01mraise\u001b[39;00m \u001b[38;5;167;01mKeyError\u001b[39;00m(gpr)\n\u001b[1;32m   1044\u001b[0m \u001b[38;5;28;01melif\u001b[39;00m \u001b[38;5;28misinstance\u001b[39m(gpr, Grouper) \u001b[38;5;129;01mand\u001b[39;00m gpr\u001b[38;5;241m.\u001b[39mkey \u001b[38;5;129;01mis\u001b[39;00m \u001b[38;5;129;01mnot\u001b[39;00m \u001b[38;5;28;01mNone\u001b[39;00m:\n\u001b[1;32m   1045\u001b[0m     \u001b[38;5;66;03m# Add key to exclusions\u001b[39;00m\n\u001b[1;32m   1046\u001b[0m     exclusions\u001b[38;5;241m.\u001b[39madd(gpr\u001b[38;5;241m.\u001b[39mkey)\n",
      "\u001b[0;31mKeyError\u001b[0m: 'Stage'"
     ]
    }
   ],
   "source": [
    "# Load Dataset\n",
    "merged_df = pd.read_csv('./Output/super_May22/Merged_data.csv')\n",
    "audio_df = pd.read_csv('./Output/super_May22/Vocal_agg.csv')\n",
    "\n",
    "# Load StageLabel from external file\n",
    "stages_df = pd.read_csv('./Output/super_May22/Segmented_Conversations_With_Conflicts.csv')\n",
    "stage_label_col = 'Stage'\n",
    "\n",
    "\n",
    "# 'Merge' StageLabel into the main dataset\n",
    "merged_df[stage_label_col] = stages_df[stage_label_col]\n",
    "\n",
    "# Step 0: Subset columns\n",
    "merged_df = subset_columns(merged_df, audio_df)\n",
    "print(list(merged_df))\n",
    "# Define variables to include\n",
    "variables_to_include = merged_df.columns.tolist()\n",
    "\n",
    "# Perform PCA and clustering on the entire dataset\n",
    "clustered_variables, silhouette_avg, pca = perform_pca_clustering(merged_df, variables_to_include, n_clusters=5)\n",
    "\n",
    "# Rank clusters by variability across StageLabels\n",
    "cluster_summary, stage_label_rankings = rank_clusters_by_stage_label(clustered_variables, merged_df, stage_label_col)\n",
    "\n",
    "# Output results\n",
    "print(\"Cluster Summary:\")\n",
    "print(cluster_summary)\n",
    "\n",
    "print(\"\\nStageLabel Rankings:\")\n",
    "for stage, ranking in stage_label_rankings.items():\n",
    "    print(f\"Stage {stage} Rankings:\")\n",
    "    for cluster_name, variability in ranking:\n",
    "        print(f\"  Cluster: {cluster_name}, Variability: {variability}\")"
   ]
  },
  {
   "cell_type": "code",
   "execution_count": null,
   "metadata": {},
   "outputs": [],
   "source": []
  }
 ],
 "metadata": {
  "kernelspec": {
   "display_name": ".venv",
   "language": "python",
   "name": "python3"
  },
  "language_info": {
   "codemirror_mode": {
    "name": "ipython",
    "version": 3
   },
   "file_extension": ".py",
   "mimetype": "text/x-python",
   "name": "python",
   "nbconvert_exporter": "python",
   "pygments_lexer": "ipython3",
   "version": "3.10.1"
  }
 },
 "nbformat": 4,
 "nbformat_minor": 2
}
